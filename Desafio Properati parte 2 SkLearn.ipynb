{
 "cells": [
  {
   "cell_type": "code",
   "execution_count": 1,
   "metadata": {},
   "outputs": [],
   "source": [
    "import warnings\n",
    "warnings.filterwarnings(\"ignore\")\n",
    "import numpy as np\n",
    "import pandas as pd\n",
    "#import geopandas as gpd\n",
    "import seaborn as sns\n",
    "import matplotlib.pyplot as plt\n",
    "import statsmodels.formula.api as smf\n",
    "from sklearn.linear_model import LinearRegression, Lasso, LassoCV, Ridge, RidgeCV, ElasticNet, ElasticNetCV\n",
    "from sklearn.model_selection import train_test_split, KFold, cross_val_score\n",
    "\n",
    "\n",
    "pd.set_option('display.float_format', lambda x: '%.2f' % x)\n",
    "df = pd.read_csv('df2.csv')"
   ]
  },
  {
   "cell_type": "code",
   "execution_count": 2,
   "metadata": {},
   "outputs": [],
   "source": [
    "df['rooms2'] = df.rooms**2\n",
    "df['rooms3'] = df.rooms**3\n",
    "df['rooms4'] = df.rooms**4\n"
   ]
  },
  {
   "cell_type": "code",
   "execution_count": 3,
   "metadata": {},
   "outputs": [],
   "source": [
    "def findAlphaLasso(X,y,randomState=53,tries=2,alphaFrom=0.000001,alphaTo=10,steps=10000):\n",
    "    kf = KFold(n_splits=5, shuffle=True, random_state=randomState)\n",
    "    step_value=(alphaTo-alphaFrom)/steps\n",
    "    print(\"Lasso, try from {} to {}:\".format(alphaFrom,alphaTo))\n",
    "    prevAlphaTest=0\n",
    "    for i in range(0,tries):\n",
    "        al_lasso = np.linspace(alphaFrom, alphaTo, steps)\n",
    "        lm_lasso_cv= LassoCV(alphas=al_lasso, cv=kf, normalize=False)\n",
    "        lm_lasso_cv.fit(X, y)\n",
    "        prevAlphaTest=lm_lasso_cv.alpha_\n",
    "        alphaFrom = max(prevAlphaTest - step_value*2,0.000000000000001)\n",
    "        alphaTo = prevAlphaTest   + step_value*2\n",
    "        step_value=(alphaTo-alphaFrom)/steps\n",
    "        print(\"intento {} Alpha Value {}. Next try from {} to {} \".format(i+1,lm_lasso_cv.alpha_,alphaFrom,alphaTo))\n",
    "    print(\"Alpha Founded {}\".format(lm_lasso_cv.alpha_))\n",
    "    return lm_lasso_cv\n",
    "\n",
    "def findAlphaRidge(X,y,randomState=53,tries=2,alphaFrom=0.000001,alphaTo=10,steps=1000):\n",
    "    kf = KFold(n_splits=5, shuffle=True, random_state=randomState)\n",
    "    step_value=(alphaTo-alphaFrom)/steps\n",
    "    print(\"Ridge, try from {} to {}:\".format(alphaFrom,alphaTo))\n",
    "    prevAlphaTest=0\n",
    "    for i in range(0,tries):\n",
    "        al_ridge = np.linspace(alphaFrom, alphaTo, steps)\n",
    "        lm_ridge_cv= RidgeCV(alphas=al_ridge, cv=kf, normalize=False)\n",
    "        lm_ridge_cv.fit(X, y)\n",
    "        prevAlphaTest=lm_ridge_cv.alpha_\n",
    "        alphaFrom = max(prevAlphaTest - step_value*2,0.000000000000001)\n",
    "        alphaTo = prevAlphaTest   + step_value*2\n",
    "        step_value=(alphaTo-alphaFrom)/steps\n",
    "        print(\"intento {} Alpha Value {}. Next try from {} to {} \".format(i+1,lm_ridge_cv.alpha_,alphaFrom,alphaTo))\n",
    "    print(\"Alpha Founded {}\".format(lm_ridge_cv.alpha_))\n",
    "    return lm_ridge_cv\n",
    "\n",
    "\n",
    "def findAlphaElasticNet(X,y,randomState=53,tries=2,alphaFrom=0.000001,alphaTo=10,steps=1000):\n",
    "    kf = KFold(n_splits=5, shuffle=True, random_state=randomState)\n",
    "    step_value=(alphaTo-alphaFrom)/steps\n",
    "    print(\"ElasticNet, try from {} to {}:\".format(alphaFrom,alphaTo))\n",
    "    prevAlphaTest=0\n",
    "    for i in range(0,tries):\n",
    "        al_elastic = np.linspace(alphaFrom, alphaTo, steps)\n",
    "        modelCV= ElasticNetCV(alphas=al_elastic, cv=kf, normalize=False)\n",
    "        modelCV.fit(X, y)\n",
    "        prevAlphaTest=modelCV.alpha_\n",
    "        alphaFrom = max(prevAlphaTest - step_value*2,0.000000000000001)\n",
    "        alphaTo = prevAlphaTest   + step_value*2\n",
    "        step_value=(alphaTo-alphaFrom)/steps\n",
    "        print(\"intento {} Alpha Value {}. Next try from {} to {} \".format(i+1,modelCV.alpha_,alphaFrom,alphaTo))\n",
    "    print(\"Alpha Founded {}\".format(modelCV.alpha_))\n",
    "    return modelCV\n",
    "\n",
    "def splitTest(df,provinciaFilter=\"\",randomStates=53):\n",
    "    columns=['log_price_usd_per_m2','rooms','rooms2','rooms3','rooms4','surface_total_in_m2','property_type','localidad',\n",
    "    'Seguridad','Amenities','Cochera','Estrenar','Gimnasio','Lavadero','Parrilla','Pileta','SUM']\n",
    "    if(provinciaFilter==\"\"):\n",
    "        X = df.loc[:,columns]\n",
    "    else:\n",
    "        X = df.loc[df.provincia==provinciaFilter,columns]    \n",
    "    X = X.dropna()\n",
    "    X = pd.get_dummies(X.property_type, drop_first=1).join(X).drop('property_type', axis=1)\n",
    "    X = pd.get_dummies(X.localidad, drop_first=1).join(X).drop('localidad', axis=1)\n",
    "    y = X['log_price_usd_per_m2']\n",
    "    X = X.drop('log_price_usd_per_m2', axis=1)\n",
    "    return train_test_split(X, y, test_size=0.30, random_state=randomStates)\n",
    "\n",
    "def scoreByModel(model,X_train,X_test,y_train,y_test):\n",
    "    print(\"Score Train : %.4f \" %  model.score(X_train, y_train))\n",
    "    print(\"Score Test : %.4f \" %  model.score(X_test, y_test))"
   ]
  },
  {
   "cell_type": "code",
   "execution_count": 4,
   "metadata": {},
   "outputs": [
    {
     "name": "stdout",
     "output_type": "stream",
     "text": [
      "CABA CON LASSO:\n",
      "Score Train : 0.5304 \n",
      "Score Test : 0.5328 \n"
     ]
    }
   ],
   "source": [
    "# ANALISIS FILTRADO POR CABA\n",
    "X_caba_train,X_caba_test,y_caba_train,y_caba_test = splitTest(df,provinciaFilter=\"Capital Federal\")\n",
    "print(\"CABA CON LASSO:\")\n",
    "#caba_lasso=findAlphaLasso(X_caba_train, y_caba_train)\n",
    "caba_lasso = Lasso(alpha=5.5633477896767367e-05)\n",
    "caba_lasso.fit(X_caba_train,y_caba_train)\n",
    "scoreByModel(caba_lasso,X_caba_train,X_caba_test,y_caba_train,y_caba_test)"
   ]
  },
  {
   "cell_type": "code",
   "execution_count": 5,
   "metadata": {},
   "outputs": [
    {
     "name": "stdout",
     "output_type": "stream",
     "text": [
      "CABA CON RIDGE:\n",
      "Score Train : 0.5305 \n",
      "Score Test : 0.5326 \n"
     ]
    }
   ],
   "source": [
    "print(\"CABA CON RIDGE:\")\n",
    "#caba_ridge=findAlphaRidge(X_caba_train, y_caba_train)\n",
    "caba_ridge = Ridge(alpha=2.4119281585820747)\n",
    "caba_ridge.fit(X_caba_train,y_caba_train)\n",
    "scoreByModel(caba_ridge,X_caba_train,X_caba_test,y_caba_train,y_caba_test)"
   ]
  },
  {
   "cell_type": "code",
   "execution_count": 6,
   "metadata": {},
   "outputs": [
    {
     "name": "stdout",
     "output_type": "stream",
     "text": [
      "CABA CON ELASTIC NET:\n",
      "Score Train : 0.5304 \n",
      "Score Test : 0.5328 \n"
     ]
    }
   ],
   "source": [
    "print(\"CABA CON ELASTIC NET:\")\n",
    "#caba_elastic=findAlphaElasticNet(X_caba_train, y_caba_train)\n",
    "caba_elastic = ElasticNet(alpha=0.0001001050950960901)\n",
    "caba_elastic.fit(X_caba_train,y_caba_train)\n",
    "scoreByModel(caba_elastic,X_caba_train,X_caba_test,y_caba_train,y_caba_test)"
   ]
  },
  {
   "cell_type": "code",
   "execution_count": 7,
   "metadata": {},
   "outputs": [
    {
     "name": "stdout",
     "output_type": "stream",
     "text": [
      "ARG CON LASSO:\n",
      "Score Train : 0.6277 \n",
      "Score Test : 0.5086 \n"
     ]
    }
   ],
   "source": [
    "# ANALISIS TODO ARGENTINA\n",
    "X_arg_train,X_arg_test,y_arg_train,y_arg_test = splitTest(df,provinciaFilter=\"\")\n",
    "print(\"ARG CON LASSO:\")\n",
    "#arg_lasso=findAlphaLasso(X_arg_train, y_arg_train)\n",
    "arg_lasso = Lasso(alpha=4.9429758144795265e-05)\n",
    "arg_lasso.fit(X_arg_train,y_arg_train)\n",
    "scoreByModel(arg_lasso,X_arg_train,X_arg_test,y_arg_train,y_arg_test)"
   ]
  },
  {
   "cell_type": "code",
   "execution_count": 12,
   "metadata": {},
   "outputs": [
    {
     "name": "stdout",
     "output_type": "stream",
     "text": [
      "ARG CON RIDGE:\n",
      "Score Train : 0.6326 \n",
      "Score Test : 0.5247 \n"
     ]
    }
   ],
   "source": [
    "print(\"ARG CON RIDGE:\")\n",
    "#arg_ridge=findAlphaRidge(X_arg_train, y_arg_train)\n",
    "arg_ridge = Ridge(alpha=0.09811910830630631)\n",
    "arg_ridge.fit(X_arg_train,y_arg_train)\n",
    "scoreByModel(arg_ridge,X_arg_train,X_arg_test,y_arg_train,y_arg_test)"
   ]
  },
  {
   "cell_type": "code",
   "execution_count": 9,
   "metadata": {},
   "outputs": [
    {
     "name": "stdout",
     "output_type": "stream",
     "text": [
      "ARG CON ELASTIC NET:\n",
      "Score Train : 0.6308 \n",
      "Score Test : 0.5536 \n"
     ]
    }
   ],
   "source": [
    "print(\"ARG CON ELASTIC NET:\")\n",
    "#arg_elastic=findAlphaElasticNet(X_arg_train, y_arg_train)\n",
    "arg_elastic = ElasticNet(alpha=2.002101902001802e-05)\n",
    "arg_elastic.fit(X_arg_train,y_arg_train)\n",
    "scoreByModel(arg_elastic,X_arg_train,X_arg_test,y_arg_train,y_arg_test)"
   ]
  },
  {
   "cell_type": "markdown",
   "metadata": {},
   "source": [
    "#### -----------------------------"
   ]
  },
  {
   "cell_type": "code",
   "execution_count": null,
   "metadata": {},
   "outputs": [],
   "source": []
  }
 ],
 "metadata": {
  "kernelspec": {
   "display_name": "Python 3",
   "language": "python",
   "name": "python3"
  },
  "language_info": {
   "codemirror_mode": {
    "name": "ipython",
    "version": 3
   },
   "file_extension": ".py",
   "mimetype": "text/x-python",
   "name": "python",
   "nbconvert_exporter": "python",
   "pygments_lexer": "ipython3",
   "version": "3.7.4"
  }
 },
 "nbformat": 4,
 "nbformat_minor": 2
}
