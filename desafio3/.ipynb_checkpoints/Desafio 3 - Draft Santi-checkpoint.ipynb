{
 "cells": [
  {
   "cell_type": "markdown",
   "metadata": {},
   "source": [
    "# Desafio 3 - Grupo 3"
   ]
  },
  {
   "cell_type": "markdown",
   "metadata": {},
   "source": [
    " -------------- Insertar AQUI descripcion de desafio -----------"
   ]
  },
  {
   "cell_type": "code",
   "execution_count": 6,
   "metadata": {},
   "outputs": [],
   "source": [
    "import numpy as np\n",
    "import pandas as pd\n",
    "import geopandas as gpd\n",
    "import seaborn as sns\n",
    "import matplotlib.pyplot as plt\n",
    "\n",
    "from sklearn.model_selection import cross_val_score\n",
    "from sklearn.neighbors import KNeighborsClassifier\n",
    "from sklearn.metrics import confusion_matrix, accuracy_score\n",
    "\n",
    "import re\n",
    "pd.set_option('display.float_format', lambda x: '%.2f' % x)\n"
   ]
  },
  {
   "cell_type": "markdown",
   "metadata": {},
   "source": [
    "## DESCRIPCIÓN DE VARIABLES\n",
    "A continuación se detallan las variables incluidas en la base con una breve descripción de las mismas.\n",
    "\n",
    "- ID_DATOS_ABIERTOS_LEGAJO Código identificador del legajo al que pertenece la persona afectada\n",
    "- ID_DATOS_ABIERTOS_PERSONA Código identificador de la persona afectada\n",
    "- AÑO Año en el que fue realizada la presentación\n",
    "- MES Mes en el que fue realizada la presentación\n",
    "- INGRESO Indica por quién o a través de qué institución fue derivada a la OVD\n",
    "- LEG_TERCERA Identifica si el legajo al que pertenece la persona afectada fue iniciado por una tercera persona\n",
    "- SEXO_GENERO Indica el sexo/género de la persona afectada\n",
    "- GRUPO_EDAD Indica el grupo de edad de la persona afectada\n",
    "- EDAD Edad de la persona afectada\n",
    "- NACIONALIDAD Nacionalidad de la persona afectada\n",
    "- DOMICILIO_PROVINCIA Provincia en la que se domicilia la persona afectada\n",
    "- BARRIO Barrio en el que se domicilia la persona afectada\n",
    "- COMUNA Comuna en la que se domicilia la persona afectada\n",
    "- LOCALIDAD_OTRAS_PROVINCIAS Detalle de localidad extra jurisdiccional en la que se domicilia la persona afectada\n",
    "- NIVEL_INSTRUCCION Nivel de instrucción de la persona afectada\n",
    "- CONDICIÓN_LABORAL Condición laboral de la persona afectada\n",
    "- CATEGORIA_OCUPACIONAL Categoría ocupacional de la persona afectada -sólo para personas ocupadas\n",
    "- CATEGORIA_OCUPACIONAL_DETALLE Detalle de la categoría ocupacional de la persona afectada\n",
    "- RELACION_AFECTADA_DENUNCIADA Vínculo entre la persona afectada y la persona denunciada\n",
    "- COHABITAN Indica si la persona afectada y la denunciada cohabitan o cohabitaban hasta una semana previa a la denuncia\n",
    "- FRECUENCIA_EPISODIOS Indica la frecuencia de los episodios de violencia\n",
    "- V_FISICA Indica si se registró violencia física en la presentación\n",
    "- V_PSIC Indica si se registró violencia psicológica en la presentación\n",
    "- V_ECON Indica si se registró violencia económico patrimonial en la presentación\n",
    "- V_SEX Indica si se registró violencia sexual en la presentación\n",
    "- V_SOC Indica si se registró violencia social en la presentación\n",
    "- V_AMB Indica si se registró violencia ambiental en la presentación\n",
    "- V_SIMB Indica si se registró violencia simbólica en la presentación \n",
    "- EVA_RIESGO Indica la evaluación de riesgo efectuada por los equipos interdisciplinarios de la OVD\n",
    "- DENUNCIADA_SEXO_GENERO Indica el sexo/género de la persona denunciada\n",
    "- DENUNCIADA_EDAD Indica el grupo de edad de la persona denunciada\n",
    "- DENUNCIADA_COND_LAB Indica la condición laboral de la persona denunciada\n",
    "- DENUNCIADA_NIVEL_INSTRU Indica el nivel de instrucción de la persona denunciada\n",
    "- JNCIVIL Indica si en dicho legajo hubo derivación a la Justicia Nacional en lo Civil\n",
    "- JPENAL Indica si en dicho legajo hubo derivación a la Justicia Penal\n",
    "- ASJURIDICO Indica si en dicho legajo hubo derivación a Asesoramiento Jurídico\n",
    "- SISTSALUD Indica si en dicho legajo hubo derivación al sistema de salud\n",
    "- DGM Indica si en dicho legajo hubo derivación a la Dirección General de la\n",
    "- Mujer (C.A.B.A.)\n",
    "- CDNNYA Indica si en dicho legajo hubo derivación al Consejo de Derechos de\n",
    "- Niñas, Niños y Adolescentes (C.A.B.A.)\n",
    "- INSTNOJUDICIAL Indica si en dicho legajo hubo derivación a instancia no judicial\n",
    "- JUSPROV Indica si en dicho legajo hubo derivación a la Justicia Provincial\n",
    "- PROTEGER Indica si en dicho legajo hubo derivación al Programa Proteger (C.A.B.A.)\n",
    "- SZYPDN Indica si en dicho legajo hubo derivación al Servicio Zonal de Promoción y Protección Integral de los derechos de los niños\n",
    "- DGMREFUGIO Indica si en dicho legajo hubo derivación a la Dirección General de la Mujer – Refugio- (C.A.B.A.)\n",
    "- ROVD Indica si dicho legajo se reservó en la OVD\n",
    "- DPMENEINCAP Indica si en dicho legajo hubo derivación a la Defensoría Pública de Menores e Incapaces de la Nación.\n",
    "\n",
    "\n",
    "<font color=\"lightblue\">Queremos predecir el valor de EVA_RIESGO en funcion de los valores de las otras features </font>"
   ]
  },
  {
   "cell_type": "code",
   "execution_count": 7,
   "metadata": {},
   "outputs": [
    {
     "data": {
      "text/plain": [
       "(15374, 46)"
      ]
     },
     "execution_count": 7,
     "metadata": {},
     "output_type": "execute_result"
    }
   ],
   "source": [
    "column_names =  [\n",
    "    \"ID_DATOS_ABIERTOS_LEGAJO\",\"ID_DATOS_ABIERTOS_PERSONA\",\n",
    "    \"ANO\",\n",
    "    \"MES\",\n",
    "    \"INGRESO\",\n",
    "    \"LEG_TERCERA\",\n",
    "    \"SEXO_GENERO\",\n",
    "    \"GRUPO_EDAD\",\n",
    "    \"EDAD\",\n",
    "    \"NACIONALIDAD\",\n",
    "    \"DOMICILIO_PROVINCIA\",\n",
    "    \"BARRIO\",\n",
    "    \"COMUNA\",\n",
    "    \"LOCALIDAD_OTRAS_PROVINCIAS\",\n",
    "    \"NIVEL_INSTRU\",\n",
    "    \"CONDICION_LABORAL\",\n",
    "    \"CATEGORIA_OCUPACIONAL\",\n",
    "    \"CATEGORIA_OCUPACIONAL_DETALLE\",\n",
    "    \"RELACION_AFECTADA_DENUNCIADA\",\n",
    "    \"COHABITAN\",\n",
    "    \"FRECUENCIA_EPISODIOS\",\n",
    "    \"V_FISICA\",\"V_PSIC\",\"V_ECON\",\"V_SEX\",\"V_SOC\",\"V_AMB\",\"V_SIMB\",\n",
    "    \"EVA_RIESGO\",\n",
    "    \"DENUNCIADA_SEXO_GENERO\",\n",
    "    \"DENUNCIADA_EDAD\",\n",
    "    \"DENUNCIADA_COND_LAB\",\n",
    "    \"DENUNCIADA_NIVEL_INSTRU\",\n",
    "    \"JNCIVIL\",\n",
    "    \"JPENAL\",\n",
    "    \"ASJURIDICO\",\n",
    "    \"SISTSALUD\",\n",
    "    \"DGM\",\n",
    "    \"CONDNNYA\",\n",
    "    \"INSTNOJUDICIAL\",\n",
    "    \"JUSPROV\",\n",
    "    \"PROTEGER\",\n",
    "    \"SZYPDN\",\n",
    "    \"DGMREFUGIO\",\n",
    "    \"ROVD\",\n",
    "    \"DPMENEINCAP\"]\n",
    "df = pd.read_csv('ovddatosabiertos2018-1.csv',sep=';',names=column_names,skiprows=1,encoding = \"ISO-8859-1\")\n",
    "df.shape"
   ]
  },
  {
   "cell_type": "code",
   "execution_count": 8,
   "metadata": {},
   "outputs": [
    {
     "data": {
      "text/html": [
       "<div>\n",
       "<style scoped>\n",
       "    .dataframe tbody tr th:only-of-type {\n",
       "        vertical-align: middle;\n",
       "    }\n",
       "\n",
       "    .dataframe tbody tr th {\n",
       "        vertical-align: top;\n",
       "    }\n",
       "\n",
       "    .dataframe thead th {\n",
       "        text-align: right;\n",
       "    }\n",
       "</style>\n",
       "<table border=\"1\" class=\"dataframe\">\n",
       "  <thead>\n",
       "    <tr style=\"text-align: right;\">\n",
       "      <th></th>\n",
       "      <th>ID_DATOS_ABIERTOS_LEGAJO</th>\n",
       "      <th>ID_DATOS_ABIERTOS_PERSONA</th>\n",
       "      <th>ANO</th>\n",
       "      <th>MES</th>\n",
       "      <th>INGRESO</th>\n",
       "      <th>LEG_TERCERA</th>\n",
       "      <th>SEXO_GENERO</th>\n",
       "      <th>GRUPO_EDAD</th>\n",
       "      <th>EDAD</th>\n",
       "      <th>NACIONALIDAD</th>\n",
       "      <th>...</th>\n",
       "      <th>SISTSALUD</th>\n",
       "      <th>DGM</th>\n",
       "      <th>CONDNNYA</th>\n",
       "      <th>INSTNOJUDICIAL</th>\n",
       "      <th>JUSPROV</th>\n",
       "      <th>PROTEGER</th>\n",
       "      <th>SZYPDN</th>\n",
       "      <th>DGMREFUGIO</th>\n",
       "      <th>ROVD</th>\n",
       "      <th>DPMENEINCAP</th>\n",
       "    </tr>\n",
       "  </thead>\n",
       "  <tbody>\n",
       "    <tr>\n",
       "      <td>0</td>\n",
       "      <td>AABVJuAAmAACMW4ABI</td>\n",
       "      <td>AAASVGAAjAACCziAAJ</td>\n",
       "      <td>2.02</td>\n",
       "      <td>ENERO</td>\n",
       "      <td>FUERZAS DE SEGURIDAD</td>\n",
       "      <td>NO</td>\n",
       "      <td>MUJER</td>\n",
       "      <td>ADULTAS (30-39 AÑOS)</td>\n",
       "      <td>31</td>\n",
       "      <td>PARAGUAY</td>\n",
       "      <td>...</td>\n",
       "      <td>SI</td>\n",
       "      <td>NO</td>\n",
       "      <td>NO</td>\n",
       "      <td>NO</td>\n",
       "      <td>NO</td>\n",
       "      <td>NO</td>\n",
       "      <td>NO</td>\n",
       "      <td>NO</td>\n",
       "      <td>NO</td>\n",
       "      <td>NO</td>\n",
       "    </tr>\n",
       "    <tr>\n",
       "      <td>1</td>\n",
       "      <td>AABVJuAAmAACMW4ABJ</td>\n",
       "      <td>AAASVGAAjAACC6NAAF</td>\n",
       "      <td>2.02</td>\n",
       "      <td>ENERO</td>\n",
       "      <td>FUERZAS DE SEGURIDAD</td>\n",
       "      <td>NO</td>\n",
       "      <td>MUJER</td>\n",
       "      <td>ADULTAS (50-59 AÑOS)</td>\n",
       "      <td>51</td>\n",
       "      <td>ARGENTINA</td>\n",
       "      <td>...</td>\n",
       "      <td>NO</td>\n",
       "      <td>SI</td>\n",
       "      <td>SI</td>\n",
       "      <td>NO</td>\n",
       "      <td>NO</td>\n",
       "      <td>NO</td>\n",
       "      <td>NO</td>\n",
       "      <td>NO</td>\n",
       "      <td>NO</td>\n",
       "      <td>NO</td>\n",
       "    </tr>\n",
       "    <tr>\n",
       "      <td>2</td>\n",
       "      <td>AABVJuAAmAACMW4ABJ</td>\n",
       "      <td>AAASVGAAjAACC6NAAH</td>\n",
       "      <td>2.02</td>\n",
       "      <td>ENERO</td>\n",
       "      <td>FUERZAS DE SEGURIDAD</td>\n",
       "      <td>NO</td>\n",
       "      <td>MUJER</td>\n",
       "      <td>NIÑAS/OS (15-17 AÑOS)</td>\n",
       "      <td>16</td>\n",
       "      <td>ARGENTINA</td>\n",
       "      <td>...</td>\n",
       "      <td>NO</td>\n",
       "      <td>SI</td>\n",
       "      <td>SI</td>\n",
       "      <td>NO</td>\n",
       "      <td>NO</td>\n",
       "      <td>NO</td>\n",
       "      <td>NO</td>\n",
       "      <td>NO</td>\n",
       "      <td>NO</td>\n",
       "      <td>NO</td>\n",
       "    </tr>\n",
       "    <tr>\n",
       "      <td>3</td>\n",
       "      <td>AABVJuAAmAACMW4ABJ</td>\n",
       "      <td>AAASVGAAjAACC6NAAI</td>\n",
       "      <td>2.02</td>\n",
       "      <td>ENERO</td>\n",
       "      <td>FUERZAS DE SEGURIDAD</td>\n",
       "      <td>NO</td>\n",
       "      <td>MUJER</td>\n",
       "      <td>NIÑAS/OS (11-14 AÑOS)</td>\n",
       "      <td>14</td>\n",
       "      <td>ARGENTINA</td>\n",
       "      <td>...</td>\n",
       "      <td>NO</td>\n",
       "      <td>SI</td>\n",
       "      <td>SI</td>\n",
       "      <td>NO</td>\n",
       "      <td>NO</td>\n",
       "      <td>NO</td>\n",
       "      <td>NO</td>\n",
       "      <td>NO</td>\n",
       "      <td>NO</td>\n",
       "      <td>NO</td>\n",
       "    </tr>\n",
       "    <tr>\n",
       "      <td>4</td>\n",
       "      <td>AABVJuAAmAACMW4ABJ</td>\n",
       "      <td>AAASVGAAjAACC6NAAJ</td>\n",
       "      <td>2.02</td>\n",
       "      <td>ENERO</td>\n",
       "      <td>FUERZAS DE SEGURIDAD</td>\n",
       "      <td>NO</td>\n",
       "      <td>VARON</td>\n",
       "      <td>NIÑAS/OS ( 6-10 AÑOS)</td>\n",
       "      <td>9</td>\n",
       "      <td>ARGENTINA</td>\n",
       "      <td>...</td>\n",
       "      <td>NO</td>\n",
       "      <td>SI</td>\n",
       "      <td>SI</td>\n",
       "      <td>NO</td>\n",
       "      <td>NO</td>\n",
       "      <td>NO</td>\n",
       "      <td>NO</td>\n",
       "      <td>NO</td>\n",
       "      <td>NO</td>\n",
       "      <td>NO</td>\n",
       "    </tr>\n",
       "    <tr>\n",
       "      <td>...</td>\n",
       "      <td>...</td>\n",
       "      <td>...</td>\n",
       "      <td>...</td>\n",
       "      <td>...</td>\n",
       "      <td>...</td>\n",
       "      <td>...</td>\n",
       "      <td>...</td>\n",
       "      <td>...</td>\n",
       "      <td>...</td>\n",
       "      <td>...</td>\n",
       "      <td>...</td>\n",
       "      <td>...</td>\n",
       "      <td>...</td>\n",
       "      <td>...</td>\n",
       "      <td>...</td>\n",
       "      <td>...</td>\n",
       "      <td>...</td>\n",
       "      <td>...</td>\n",
       "      <td>...</td>\n",
       "      <td>...</td>\n",
       "      <td>...</td>\n",
       "    </tr>\n",
       "    <tr>\n",
       "      <td>15369</td>\n",
       "      <td>AABVJuAAnAACTbrABl</td>\n",
       "      <td>AAASVGAAoAADtNYAAM</td>\n",
       "      <td>2.02</td>\n",
       "      <td>DICIEMBRE</td>\n",
       "      <td>FUERZAS DE SEGURIDAD</td>\n",
       "      <td>NO</td>\n",
       "      <td>MUJER</td>\n",
       "      <td>NIÑAS/OS ( 0-5 AÑOS)</td>\n",
       "      <td>#¡NULO!</td>\n",
       "      <td>ARGENTINA</td>\n",
       "      <td>...</td>\n",
       "      <td>NO</td>\n",
       "      <td>SI</td>\n",
       "      <td>SI</td>\n",
       "      <td>NO</td>\n",
       "      <td>NO</td>\n",
       "      <td>NO</td>\n",
       "      <td>NO</td>\n",
       "      <td>NO</td>\n",
       "      <td>NO</td>\n",
       "      <td>NO</td>\n",
       "    </tr>\n",
       "    <tr>\n",
       "      <td>15370</td>\n",
       "      <td>AABVJuAAnAACTaKABT</td>\n",
       "      <td>AAASVGAAoAADtG3AAR</td>\n",
       "      <td>2.02</td>\n",
       "      <td>DICIEMBRE</td>\n",
       "      <td>LINEA 144</td>\n",
       "      <td>NO</td>\n",
       "      <td>MUJER</td>\n",
       "      <td>ADULTAS (50-59 AÑOS)</td>\n",
       "      <td>50</td>\n",
       "      <td>PERU</td>\n",
       "      <td>...</td>\n",
       "      <td>SI</td>\n",
       "      <td>NO</td>\n",
       "      <td>SI</td>\n",
       "      <td>NO</td>\n",
       "      <td>NO</td>\n",
       "      <td>NO</td>\n",
       "      <td>NO</td>\n",
       "      <td>NO</td>\n",
       "      <td>NO</td>\n",
       "      <td>NO</td>\n",
       "    </tr>\n",
       "    <tr>\n",
       "      <td>15371</td>\n",
       "      <td>AABVJuAAnAACTayABX</td>\n",
       "      <td>AAASVGAAoAADtGrAAI</td>\n",
       "      <td>2.02</td>\n",
       "      <td>DICIEMBRE</td>\n",
       "      <td>DIRECTA</td>\n",
       "      <td>NO</td>\n",
       "      <td>MUJER</td>\n",
       "      <td>ADULTAS (40-49 AÑOS)</td>\n",
       "      <td>43</td>\n",
       "      <td>ARGENTINA</td>\n",
       "      <td>...</td>\n",
       "      <td>NO</td>\n",
       "      <td>SI</td>\n",
       "      <td>NO</td>\n",
       "      <td>NO</td>\n",
       "      <td>NO</td>\n",
       "      <td>NO</td>\n",
       "      <td>NO</td>\n",
       "      <td>NO</td>\n",
       "      <td>NO</td>\n",
       "      <td>NO</td>\n",
       "    </tr>\n",
       "    <tr>\n",
       "      <td>15372</td>\n",
       "      <td>AABVJuAAnAACTaYABp</td>\n",
       "      <td>AAASVGAAoAADtAWAAM</td>\n",
       "      <td>2.02</td>\n",
       "      <td>DICIEMBRE</td>\n",
       "      <td>PROGRAMA VICTIMAS CONTRA LAS VIOLENCIAS</td>\n",
       "      <td>SI</td>\n",
       "      <td>VARON</td>\n",
       "      <td>NIÑAS/OS ( 0-5 AÑOS)</td>\n",
       "      <td>5</td>\n",
       "      <td>ARGENTINA</td>\n",
       "      <td>...</td>\n",
       "      <td>SI</td>\n",
       "      <td>NO</td>\n",
       "      <td>SI</td>\n",
       "      <td>NO</td>\n",
       "      <td>NO</td>\n",
       "      <td>NO</td>\n",
       "      <td>NO</td>\n",
       "      <td>NO</td>\n",
       "      <td>NO</td>\n",
       "      <td>NO</td>\n",
       "    </tr>\n",
       "    <tr>\n",
       "      <td>15373</td>\n",
       "      <td>AABVJuAAnAACTaYABq</td>\n",
       "      <td>AAASVGAAoAADs/pAAF</td>\n",
       "      <td>2.02</td>\n",
       "      <td>DICIEMBRE</td>\n",
       "      <td>PROGRAMA VICTIMAS CONTRA LAS VIOLENCIAS</td>\n",
       "      <td>NO</td>\n",
       "      <td>VARON</td>\n",
       "      <td>ADULTAS (30-39 AÑOS)</td>\n",
       "      <td>38</td>\n",
       "      <td>ARGENTINA</td>\n",
       "      <td>...</td>\n",
       "      <td>SI</td>\n",
       "      <td>NO</td>\n",
       "      <td>NO</td>\n",
       "      <td>NO</td>\n",
       "      <td>NO</td>\n",
       "      <td>NO</td>\n",
       "      <td>NO</td>\n",
       "      <td>NO</td>\n",
       "      <td>NO</td>\n",
       "      <td>NO</td>\n",
       "    </tr>\n",
       "  </tbody>\n",
       "</table>\n",
       "<p>15374 rows × 46 columns</p>\n",
       "</div>"
      ],
      "text/plain": [
       "      ID_DATOS_ABIERTOS_LEGAJO ID_DATOS_ABIERTOS_PERSONA  ANO        MES  \\\n",
       "0           AABVJuAAmAACMW4ABI        AAASVGAAjAACCziAAJ 2.02      ENERO   \n",
       "1           AABVJuAAmAACMW4ABJ        AAASVGAAjAACC6NAAF 2.02      ENERO   \n",
       "2           AABVJuAAmAACMW4ABJ        AAASVGAAjAACC6NAAH 2.02      ENERO   \n",
       "3           AABVJuAAmAACMW4ABJ        AAASVGAAjAACC6NAAI 2.02      ENERO   \n",
       "4           AABVJuAAmAACMW4ABJ        AAASVGAAjAACC6NAAJ 2.02      ENERO   \n",
       "...                        ...                       ...  ...        ...   \n",
       "15369       AABVJuAAnAACTbrABl        AAASVGAAoAADtNYAAM 2.02  DICIEMBRE   \n",
       "15370       AABVJuAAnAACTaKABT        AAASVGAAoAADtG3AAR 2.02  DICIEMBRE   \n",
       "15371       AABVJuAAnAACTayABX        AAASVGAAoAADtGrAAI 2.02  DICIEMBRE   \n",
       "15372       AABVJuAAnAACTaYABp        AAASVGAAoAADtAWAAM 2.02  DICIEMBRE   \n",
       "15373       AABVJuAAnAACTaYABq        AAASVGAAoAADs/pAAF 2.02  DICIEMBRE   \n",
       "\n",
       "                                       INGRESO LEG_TERCERA SEXO_GENERO  \\\n",
       "0                         FUERZAS DE SEGURIDAD          NO       MUJER   \n",
       "1                         FUERZAS DE SEGURIDAD          NO       MUJER   \n",
       "2                         FUERZAS DE SEGURIDAD          NO       MUJER   \n",
       "3                         FUERZAS DE SEGURIDAD          NO       MUJER   \n",
       "4                         FUERZAS DE SEGURIDAD          NO       VARON   \n",
       "...                                        ...         ...         ...   \n",
       "15369                     FUERZAS DE SEGURIDAD          NO       MUJER   \n",
       "15370                                LINEA 144          NO       MUJER   \n",
       "15371                                  DIRECTA          NO       MUJER   \n",
       "15372  PROGRAMA VICTIMAS CONTRA LAS VIOLENCIAS          SI       VARON   \n",
       "15373  PROGRAMA VICTIMAS CONTRA LAS VIOLENCIAS          NO       VARON   \n",
       "\n",
       "                  GRUPO_EDAD     EDAD NACIONALIDAD  ... SISTSALUD DGM  \\\n",
       "0       ADULTAS (30-39 AÑOS)       31     PARAGUAY  ...        SI  NO   \n",
       "1       ADULTAS (50-59 AÑOS)       51    ARGENTINA  ...        NO  SI   \n",
       "2      NIÑAS/OS (15-17 AÑOS)       16    ARGENTINA  ...        NO  SI   \n",
       "3      NIÑAS/OS (11-14 AÑOS)       14    ARGENTINA  ...        NO  SI   \n",
       "4      NIÑAS/OS ( 6-10 AÑOS)        9    ARGENTINA  ...        NO  SI   \n",
       "...                      ...      ...          ...  ...       ...  ..   \n",
       "15369   NIÑAS/OS ( 0-5 AÑOS)  #¡NULO!    ARGENTINA  ...        NO  SI   \n",
       "15370   ADULTAS (50-59 AÑOS)       50         PERU  ...        SI  NO   \n",
       "15371   ADULTAS (40-49 AÑOS)       43    ARGENTINA  ...        NO  SI   \n",
       "15372   NIÑAS/OS ( 0-5 AÑOS)        5    ARGENTINA  ...        SI  NO   \n",
       "15373   ADULTAS (30-39 AÑOS)       38    ARGENTINA  ...        SI  NO   \n",
       "\n",
       "      CONDNNYA INSTNOJUDICIAL JUSPROV PROTEGER SZYPDN DGMREFUGIO ROVD  \\\n",
       "0           NO             NO      NO       NO     NO         NO   NO   \n",
       "1           SI             NO      NO       NO     NO         NO   NO   \n",
       "2           SI             NO      NO       NO     NO         NO   NO   \n",
       "3           SI             NO      NO       NO     NO         NO   NO   \n",
       "4           SI             NO      NO       NO     NO         NO   NO   \n",
       "...        ...            ...     ...      ...    ...        ...  ...   \n",
       "15369       SI             NO      NO       NO     NO         NO   NO   \n",
       "15370       SI             NO      NO       NO     NO         NO   NO   \n",
       "15371       NO             NO      NO       NO     NO         NO   NO   \n",
       "15372       SI             NO      NO       NO     NO         NO   NO   \n",
       "15373       NO             NO      NO       NO     NO         NO   NO   \n",
       "\n",
       "      DPMENEINCAP  \n",
       "0              NO  \n",
       "1              NO  \n",
       "2              NO  \n",
       "3              NO  \n",
       "4              NO  \n",
       "...           ...  \n",
       "15369          NO  \n",
       "15370          NO  \n",
       "15371          NO  \n",
       "15372          NO  \n",
       "15373          NO  \n",
       "\n",
       "[15374 rows x 46 columns]"
      ]
     },
     "execution_count": 8,
     "metadata": {},
     "output_type": "execute_result"
    }
   ],
   "source": [
    "df"
   ]
  },
  {
   "cell_type": "code",
   "execution_count": 3,
   "metadata": {},
   "outputs": [
    {
     "name": "stdout",
     "output_type": "stream",
     "text": [
      "<class 'pandas.core.frame.DataFrame'>\n",
      "RangeIndex: 15374 entries, 0 to 15373\n",
      "Data columns (total 46 columns):\n",
      "ID_DATOS_ABIERTOS_LEGAJO         15374 non-null object\n",
      "ID_DATOS_ABIERTOS_PERSONA        15374 non-null object\n",
      "ANO                              15374 non-null float64\n",
      "MES                              15374 non-null object\n",
      "INGRESO                          15374 non-null object\n",
      "LEG_TERCERA                      15374 non-null object\n",
      "SEXO_GENERO                      15374 non-null object\n",
      "GRUPO_EDAD                       15374 non-null object\n",
      "EDAD                             15374 non-null object\n",
      "NACIONALIDAD                     15368 non-null object\n",
      "DOMICILIO_PROVINCIA              14857 non-null object\n",
      "BARRIO                           13968 non-null object\n",
      "COMUNA                           13961 non-null object\n",
      "LOCALIDAD_OTRAS_PROVINCIAS       889 non-null object\n",
      "NIVEL_INSTRU                     15293 non-null object\n",
      "CONDICION_LABORAL                15318 non-null object\n",
      "CATEGORIA_OCUPACIONAL            7224 non-null object\n",
      "CATEGORIA_OCUPACIONAL_DETALLE    3931 non-null object\n",
      "RELACION_AFECTADA_DENUNCIADA     15368 non-null object\n",
      "COHABITAN                        15343 non-null object\n",
      "FRECUENCIA_EPISODIOS             15368 non-null object\n",
      "V_FISICA                         15368 non-null object\n",
      "V_PSIC                           15368 non-null object\n",
      "V_ECON                           15368 non-null object\n",
      "V_SEX                            15368 non-null object\n",
      "V_SOC                            15368 non-null object\n",
      "V_AMB                            15368 non-null object\n",
      "V_SIMB                           15368 non-null object\n",
      "EVA_RIESGO                       15368 non-null object\n",
      "DENUNCIADA_SEXO_GENERO           15372 non-null object\n",
      "DENUNCIADA_EDAD                  15372 non-null object\n",
      "DENUNCIADA_COND_LAB              14698 non-null object\n",
      "DENUNCIADA_NIVEL_INSTRU          14697 non-null object\n",
      "JNCIVIL                          15374 non-null object\n",
      "JPENAL                           15374 non-null object\n",
      "ASJURIDICO                       15374 non-null object\n",
      "SISTSALUD                        15374 non-null object\n",
      "DGM                              15374 non-null object\n",
      "CONDNNYA                         15374 non-null object\n",
      "INSTNOJUDICIAL                   15374 non-null object\n",
      "JUSPROV                          15374 non-null object\n",
      "PROTEGER                         15374 non-null object\n",
      "SZYPDN                           15374 non-null object\n",
      "DGMREFUGIO                       15374 non-null object\n",
      "ROVD                             15374 non-null object\n",
      "DPMENEINCAP                      15374 non-null object\n",
      "dtypes: float64(1), object(45)\n",
      "memory usage: 5.4+ MB\n"
     ]
    }
   ],
   "source": [
    "df.info()"
   ]
  },
  {
   "cell_type": "markdown",
   "metadata": {},
   "source": [
    "### Analizamos las relaciones entre las variables\n",
    "Para ello graficamos distribuciones y scatters, con _hue_ de la variable target. También creamos una matriz de correlación"
   ]
  },
  {
   "cell_type": "code",
   "execution_count": 4,
   "metadata": {},
   "outputs": [],
   "source": [
    "#elegimos con que features vamos a trabajar\n",
    "features_columns=[\n",
    "    #\"ID_DATOS_ABIERTOS_LEGAJO\",\"ID_DATOS_ABIERTOS_PERSONA\",\"ANO\",\"MES\",\n",
    "    \"INGRESO\",\n",
    "    \"LEG_TERCERA\",\n",
    "    \"SEXO_GENERO\",\n",
    "    \"GRUPO_EDAD\",\n",
    "   # \"EDAD\",\n",
    "    \"NACIONALIDAD\",\n",
    "    \"DOMICILIO_PROVINCIA\",\n",
    "   # \"BARRIO\",\n",
    "   # \"COMUNA\",\n",
    "   # \"LOCALIDAD_OTRAS_PROVINCIAS\",\n",
    "    \"NIVEL_INSTRU\",\n",
    "    \"CONDICION_LABORAL\",\n",
    "    \"CATEGORIA_OCUPACIONAL\",\n",
    "   # \"CATEGORIA_OCUPACIONAL_DETALLE\",\n",
    "    \"RELACION_AFECTADA_DENUNCIADA\",\n",
    "    \"COHABITAN\",\n",
    "    \"FRECUENCIA_EPISODIOS\",\n",
    "    \"V_FISICA\",\"V_PSIC\",\"V_ECON\",\"V_SEX\",\"V_SOC\",\"V_AMB\",\"V_SIMB\",\n",
    "  ##  \"EVA_RIESGO\",\n",
    "    \"DENUNCIADA_SEXO_GENERO\",\n",
    "    \"DENUNCIADA_EDAD\",\n",
    "    \"DENUNCIADA_COND_LAB\",\n",
    "    \"DENUNCIADA_NIVEL_INSTRU\",\n",
    "  #  \"JNCIVIL\",\"JPENAL\",\"ASJURIDICO\",\"SISTSALUD\",\"DGM\",\"CONDNNYA\",\"INSTNOJUDICIAL\",\"JUSPROV\",\n",
    "  #  \"PROTEGER\",\"SZYPDN\",\"DGMREFUGIO\",\"ROVD\",\"DPMENEINCAP\"\n",
    "]"
   ]
  },
  {
   "cell_type": "markdown",
   "metadata": {},
   "source": [
    "## Analizamos la variable target"
   ]
  },
  {
   "cell_type": "code",
   "execution_count": 5,
   "metadata": {},
   "outputs": [
    {
     "data": {
      "text/plain": [
       "{'ALTISIMO', 'ALTO', 'BAJO', 'MEDIO', 'MODERADO', nan}"
      ]
     },
     "execution_count": 5,
     "metadata": {},
     "output_type": "execute_result"
    }
   ],
   "source": [
    "set(df[\"EVA_RIESGO\"])"
   ]
  },
  {
   "cell_type": "markdown",
   "metadata": {},
   "source": [
    "Tiene algo de informacion basura asique la tiramos y volvemos a ver las opciones"
   ]
  },
  {
   "cell_type": "code",
   "execution_count": 6,
   "metadata": {},
   "outputs": [
    {
     "data": {
      "text/plain": [
       "(15368, 46)"
      ]
     },
     "execution_count": 6,
     "metadata": {},
     "output_type": "execute_result"
    }
   ],
   "source": [
    "df.drop(df.loc[df[\"EVA_RIESGO\"].isna()].index,inplace=True)\n",
    "df.shape"
   ]
  },
  {
   "cell_type": "code",
   "execution_count": 7,
   "metadata": {},
   "outputs": [
    {
     "data": {
      "text/plain": [
       "{'ALTISIMO', 'ALTO', 'BAJO', 'MEDIO', 'MODERADO'}"
      ]
     },
     "execution_count": 7,
     "metadata": {},
     "output_type": "execute_result"
    }
   ],
   "source": [
    "set(df[\"EVA_RIESGO\"])"
   ]
  },
  {
   "cell_type": "markdown",
   "metadata": {},
   "source": [
    "## en principio vamos  ahacer la prueba con la evaluacion de riesgo \"alta\" y \"altisima\""
   ]
  },
  {
   "cell_type": "code",
   "execution_count": 8,
   "metadata": {},
   "outputs": [],
   "source": [
    "from sklearn.model_selection import train_test_split, KFold, cross_val_score\n",
    "\n",
    "X=pd.get_dummies(df[features_columns],drop_first=1)\n",
    "y=((df[\"EVA_RIESGO\"]==\"ALTO\") | (df[\"EVA_RIESGO\"]==\"ALTISIMO\")).astype(\"int\")\n",
    "X_train,X_test,y_train,y_test = train_test_split(X, y, test_size=0.30, random_state=1)\n",
    "\n",
    "def scoreByModel(model,X_train,X_test,y_train,y_test):\n",
    "    print(\"Score Train : %.4f \" %  model.score(X_train, y_train))\n",
    "    print(\"Score Test : %.4f \" %  model.score(X_test, y_test))"
   ]
  },
  {
   "cell_type": "code",
   "execution_count": 9,
   "metadata": {},
   "outputs": [
    {
     "data": {
      "text/plain": [
       "{'ALTISIMO', 'ALTO', 'BAJO', 'MEDIO', 'MODERADO'}"
      ]
     },
     "execution_count": 9,
     "metadata": {},
     "output_type": "execute_result"
    }
   ],
   "source": [
    "#X.shape\n",
    "set(df[\"EVA_RIESGO\"])"
   ]
  },
  {
   "cell_type": "markdown",
   "metadata": {},
   "source": [
    "## Probemos KNN"
   ]
  },
  {
   "cell_type": "code",
   "execution_count": 10,
   "metadata": {},
   "outputs": [],
   "source": [
    "from sklearn.model_selection import KFold\n",
    "\n",
    "def scores_knn(X,y,start,stop,step):\n",
    "    \n",
    "    # Voy a querer graficar los distintos valores del score de cross validation en función del hiperparámetro n_neighbors\n",
    "    # Para esto voy a generar una lista de diccionarios que después se puede convertir fácilmente en DataFrame\n",
    "    # Lista de Diccionarios\n",
    "    \n",
    "    scores_para_df = []\n",
    "    \n",
    "    # range(1,40,5) son los posibles valores de n_neighbors que quiero explorar. Son todos los enteros desde el 1\n",
    "    # hasta el 40 en saltos de a 5. (Start,Stop,Step)\n",
    "    \n",
    "    for i in range(start,stop,step):\n",
    "        # En cada iteración instanciamos el modelo con un hiperparámetro distinto\n",
    "        \n",
    "        model = KNeighborsClassifier(n_neighbors=i)\n",
    "\n",
    "        # cross_val_scores nos devuelve un array de 5 resultados, uno por cada partición que hizo automáticamente CV  \n",
    "        \n",
    "        kf = KFold(n_splits=10, shuffle=True, random_state=10)\n",
    "        \n",
    "        cv_scores = cross_val_score(model, X, y, cv=kf)\n",
    "\n",
    "        # Para cada valor de n_neighbours, creo un diccionario con el valor de n_neighbours y la media y el desvío de los scores.\n",
    "        \n",
    "        dict_row_score = {'score_medio':np.mean(cv_scores),'score_std':np.std(cv_scores),'n_neighbours':i}\n",
    "\n",
    "        # Guardo cada uno en la lista de diccionarios\n",
    "        \n",
    "        scores_para_df.append(dict_row_score)\n",
    "        \n",
    "    df_scores = pd.DataFrame(scores_para_df)\n",
    "    df_scores['limite_inferior'] = df_scores['score_medio'] - df_scores['score_std']\n",
    "    df_scores['limite_superior'] = df_scores['score_medio'] + df_scores['score_std']\n",
    "    return df_scores"
   ]
  },
  {
   "cell_type": "code",
   "execution_count": 11,
   "metadata": {},
   "outputs": [],
   "source": [
    "# SON TODAS DUMMIES NO HACE FALTA ESCALAR \n",
    "# PERO PROBEMOS!\n",
    "#from sklearn.preprocessing import StandardScaler\n",
    "#scaler = StandardScaler()\n",
    "#X_train = scaler.fit_transform(X_train)\n",
    "#X_test = scaler.transform(X_test)\n",
    "\n",
    "# Descubramos los hiperparametros\n",
    "df_scores= scores_knn(X_train, y_train, 1, 20, 2)\n"
   ]
  },
  {
   "cell_type": "code",
   "execution_count": 12,
   "metadata": {},
   "outputs": [
    {
     "data": {
      "text/html": [
       "<div>\n",
       "<style scoped>\n",
       "    .dataframe tbody tr th:only-of-type {\n",
       "        vertical-align: middle;\n",
       "    }\n",
       "\n",
       "    .dataframe tbody tr th {\n",
       "        vertical-align: top;\n",
       "    }\n",
       "\n",
       "    .dataframe thead th {\n",
       "        text-align: right;\n",
       "    }\n",
       "</style>\n",
       "<table border=\"1\" class=\"dataframe\">\n",
       "  <thead>\n",
       "    <tr style=\"text-align: right;\">\n",
       "      <th></th>\n",
       "      <th>n_neighbours</th>\n",
       "      <th>score_medio</th>\n",
       "      <th>score_std</th>\n",
       "      <th>limite_inferior</th>\n",
       "      <th>limite_superior</th>\n",
       "    </tr>\n",
       "  </thead>\n",
       "  <tbody>\n",
       "    <tr>\n",
       "      <th>0</th>\n",
       "      <td>1</td>\n",
       "      <td>0.65</td>\n",
       "      <td>0.01</td>\n",
       "      <td>0.64</td>\n",
       "      <td>0.66</td>\n",
       "    </tr>\n",
       "    <tr>\n",
       "      <th>1</th>\n",
       "      <td>3</td>\n",
       "      <td>0.66</td>\n",
       "      <td>0.01</td>\n",
       "      <td>0.65</td>\n",
       "      <td>0.68</td>\n",
       "    </tr>\n",
       "    <tr>\n",
       "      <th>2</th>\n",
       "      <td>5</td>\n",
       "      <td>0.67</td>\n",
       "      <td>0.01</td>\n",
       "      <td>0.66</td>\n",
       "      <td>0.69</td>\n",
       "    </tr>\n",
       "    <tr>\n",
       "      <th>3</th>\n",
       "      <td>7</td>\n",
       "      <td>0.68</td>\n",
       "      <td>0.01</td>\n",
       "      <td>0.67</td>\n",
       "      <td>0.69</td>\n",
       "    </tr>\n",
       "    <tr>\n",
       "      <th>4</th>\n",
       "      <td>9</td>\n",
       "      <td>0.68</td>\n",
       "      <td>0.02</td>\n",
       "      <td>0.67</td>\n",
       "      <td>0.70</td>\n",
       "    </tr>\n",
       "    <tr>\n",
       "      <th>5</th>\n",
       "      <td>11</td>\n",
       "      <td>0.69</td>\n",
       "      <td>0.01</td>\n",
       "      <td>0.68</td>\n",
       "      <td>0.70</td>\n",
       "    </tr>\n",
       "    <tr>\n",
       "      <th>6</th>\n",
       "      <td>13</td>\n",
       "      <td>0.70</td>\n",
       "      <td>0.01</td>\n",
       "      <td>0.69</td>\n",
       "      <td>0.71</td>\n",
       "    </tr>\n",
       "    <tr>\n",
       "      <th>7</th>\n",
       "      <td>15</td>\n",
       "      <td>0.70</td>\n",
       "      <td>0.01</td>\n",
       "      <td>0.68</td>\n",
       "      <td>0.71</td>\n",
       "    </tr>\n",
       "    <tr>\n",
       "      <th>8</th>\n",
       "      <td>17</td>\n",
       "      <td>0.70</td>\n",
       "      <td>0.01</td>\n",
       "      <td>0.69</td>\n",
       "      <td>0.71</td>\n",
       "    </tr>\n",
       "    <tr>\n",
       "      <th>9</th>\n",
       "      <td>19</td>\n",
       "      <td>0.70</td>\n",
       "      <td>0.01</td>\n",
       "      <td>0.69</td>\n",
       "      <td>0.71</td>\n",
       "    </tr>\n",
       "  </tbody>\n",
       "</table>\n",
       "</div>"
      ],
      "text/plain": [
       "   n_neighbours  score_medio  score_std  limite_inferior  limite_superior\n",
       "0             1         0.65       0.01             0.64             0.66\n",
       "1             3         0.66       0.01             0.65             0.68\n",
       "2             5         0.67       0.01             0.66             0.69\n",
       "3             7         0.68       0.01             0.67             0.69\n",
       "4             9         0.68       0.02             0.67             0.70\n",
       "5            11         0.69       0.01             0.68             0.70\n",
       "6            13         0.70       0.01             0.69             0.71\n",
       "7            15         0.70       0.01             0.68             0.71\n",
       "8            17         0.70       0.01             0.69             0.71\n",
       "9            19         0.70       0.01             0.69             0.71"
      ]
     },
     "execution_count": 12,
     "metadata": {},
     "output_type": "execute_result"
    }
   ],
   "source": [
    "df_scores"
   ]
  },
  {
   "cell_type": "code",
   "execution_count": 13,
   "metadata": {},
   "outputs": [
    {
     "data": {
      "image/png": "[encoded data removed]",
      "text/plain": [
       "<Figure size 432x288 with 1 Axes>"
      ]
     },
     "metadata": {
      "needs_background": "light"
     },
     "output_type": "display_data"
    }
   ],
   "source": [
    "import matplotlib.pyplot as plt\n",
    "%matplotlib inline\n",
    "\n",
    "plt.plot(df_scores['n_neighbours'],df_scores['limite_inferior'],color='r')\n",
    "plt.plot(df_scores['n_neighbours'],df_scores['score_medio'],color='b')\n",
    "plt.plot(df_scores['n_neighbours'],df_scores['limite_superior'],color='r')\n",
    "plt.ylim(0.4, .9);"
   ]
  },
  {
   "cell_type": "code",
   "execution_count": 14,
   "metadata": {},
   "outputs": [
    {
     "data": {
      "text/plain": [
       "KNeighborsClassifier(algorithm='auto', leaf_size=30, metric='minkowski',\n",
       "                     metric_params=None, n_jobs=None, n_neighbors=19, p=2,\n",
       "                     weights='uniform')"
      ]
     },
     "execution_count": 14,
     "metadata": {},
     "output_type": "execute_result"
    }
   ],
   "source": [
    "best_k = df_scores.loc[df_scores.score_medio ==\\\n",
    "                               df_scores.score_medio.max(),'n_neighbours'].values\n",
    "best_k = best_k[0]\n",
    "best_k\n",
    "\n",
    "\n",
    "# Elegimos el modelo óptimo que nos había indicado cross validation\n",
    "model = KNeighborsClassifier(n_neighbors=best_k)\n",
    "\n",
    "# Lo ajustamos sobre datos de entrenamiento\n",
    "model.fit(X_train,y_train)"
   ]
  },
  {
   "cell_type": "code",
   "execution_count": 15,
   "metadata": {
    "scrolled": true
   },
   "outputs": [
    {
     "name": "stdout",
     "output_type": "stream",
     "text": [
      "Score Train : 0.7431 \n",
      "Score Test : 0.6903 \n"
     ]
    }
   ],
   "source": [
    "scoreByModel(model,X_train,X_test,y_train,y_test)"
   ]
  },
  {
   "cell_type": "code",
   "execution_count": 16,
   "metadata": {},
   "outputs": [],
   "source": [
    "y_pred = model.predict(X_test)"
   ]
  },
  {
   "cell_type": "code",
   "execution_count": 17,
   "metadata": {},
   "outputs": [
    {
     "data": {
      "text/plain": [
       "array([[2222,  579],\n",
       "       [ 849,  961]])"
      ]
     },
     "execution_count": 17,
     "metadata": {},
     "output_type": "execute_result"
    }
   ],
   "source": [
    "confusion_matrix(y_test, y_pred)"
   ]
  },
  {
   "cell_type": "code",
   "execution_count": 18,
   "metadata": {},
   "outputs": [
    {
     "data": {
      "text/plain": [
       "0.690305790500976"
      ]
     },
     "execution_count": 18,
     "metadata": {},
     "output_type": "execute_result"
    }
   ],
   "source": [
    "# Computamos el accuracy score:\n",
    "accuracy_score(y_test, y_pred)"
   ]
  },
  {
   "cell_type": "code",
   "execution_count": 19,
   "metadata": {},
   "outputs": [
    {
     "data": {
      "text/plain": [
       "0.38866475793857364"
      ]
     },
     "execution_count": 19,
     "metadata": {},
     "output_type": "execute_result"
    }
   ],
   "source": [
    "y.mean()"
   ]
  },
  {
   "cell_type": "code",
   "execution_count": 20,
   "metadata": {},
   "outputs": [
    {
     "data": {
      "text/plain": [
       "INGRESO_CONSEJO DE DERECHOS DE  NIÑAS/OS Y ADOLESCENTES       0.01\n",
       "INGRESO_DIRECCION GENERAL DE LA MUJER                         0.02\n",
       "INGRESO_DIRECTA                                               0.04\n",
       "INGRESO_FUERZAS DE SEGURIDAD                                  0.33\n",
       "INGRESO_JUSTICIA                                              0.05\n",
       "INGRESO_LINEA 144                                             0.06\n",
       "INGRESO_OTROS                                                 0.08\n",
       "INGRESO_PROFESIONAL DE LA ABOGACIA                            0.11\n",
       "INGRESO_PROGRAMA VICTIMAS CONTRA LAS VIOLENCIAS               0.07\n",
       "INGRESO_REFERENCIAS DE OTRAS PERSONAS                         0.06\n",
       "INGRESO_SISTEMA DE SALUD                                      0.02\n",
       "LEG_TERCERA_SI                                                0.10\n",
       "SEXO_GENERO_VARON                                             0.24\n",
       "GRUPO_EDAD_ADULTAS (30-39 AÑOS)                               0.22\n",
       "GRUPO_EDAD_ADULTAS (40-49 AÑOS)                               0.14\n",
       "GRUPO_EDAD_ADULTAS (50-59 AÑOS)                               0.06\n",
       "GRUPO_EDAD_JOVENES (18-21 AÑOS)                               0.05\n",
       "GRUPO_EDAD_MAYORES (60-74 AÑOS)                               0.04\n",
       "GRUPO_EDAD_MAYORES MAS DE 74 AÑOS                             0.01\n",
       "GRUPO_EDAD_NIÑAS/OS ( 0-5 AÑOS)                               0.11\n",
       "GRUPO_EDAD_NIÑAS/OS ( 6-10 AÑOS)                              0.10\n",
       "GRUPO_EDAD_NIÑAS/OS (11-14 AÑOS)                              0.06\n",
       "GRUPO_EDAD_NIÑAS/OS (15-17 AÑOS)                              0.04\n",
       "NACIONALIDAD_ARGENTINA                                        0.81\n",
       "NACIONALIDAD_ARGENTINA - ESPAÑOLA                             0.00\n",
       "NACIONALIDAD_ARMENIO                                          0.00\n",
       "NACIONALIDAD_BOLIVIA                                          0.06\n",
       "NACIONALIDAD_BRASIL                                           0.00\n",
       "NACIONALIDAD_CHILE                                            0.00\n",
       "NACIONALIDAD_CHINA                                            0.00\n",
       "                                                              ... \n",
       "FRECUENCIA_EPISODIOS_SEMANAL                                  0.35\n",
       "V_FISICA_SI                                                   0.57\n",
       "V_PSIC_SI                                                     0.96\n",
       "V_ECON_SI                                                     0.31\n",
       "V_SEX_SI                                                      0.10\n",
       "V_SOC_SI                                                      0.15\n",
       "V_AMB_SI                                                      0.33\n",
       "V_SIMB_SI                                                     0.54\n",
       "DENUNCIADA_SEXO_GENERO_VARON                                  0.79\n",
       "DENUNCIADA_EDAD_ADULTAS (30-39 AÑOS)                          0.35\n",
       "DENUNCIADA_EDAD_ADULTAS (40-49 AÑOS)                          0.24\n",
       "DENUNCIADA_EDAD_ADULTAS (50-59 AÑOS)                          0.09\n",
       "DENUNCIADA_EDAD_JOVENES (18-21 AÑOS)                          0.04\n",
       "DENUNCIADA_EDAD_MAYORES (60-74 AÑOS)                          0.04\n",
       "DENUNCIADA_EDAD_MAYORES MAS DE 74 AÑOS                        0.01\n",
       "DENUNCIADA_EDAD_NIÑAS/OS (11-14 AÑOS)                         0.00\n",
       "DENUNCIADA_EDAD_NIÑAS/OS (15-17 AÑOS)                         0.01\n",
       "DENUNCIADA_COND_LAB_INFANCIA                                  0.01\n",
       "DENUNCIADA_COND_LAB_JUBILADA / PENSIONADA                     0.03\n",
       "DENUNCIADA_COND_LAB_OCUPADA REMUNERADA                        0.67\n",
       "DENUNCIADA_COND_LAB_OTRA SITUACION                            0.02\n",
       "DENUNCIADA_COND_LAB_TRABAJA SIN REMUNERACION - AMA DE CASA-   0.04\n",
       "DENUNCIADA_NIVEL_INSTRU_PRIMARIO INCOMPLETO                   0.07\n",
       "DENUNCIADA_NIVEL_INSTRU_SECUNDARIO COMPLETO                   0.25\n",
       "DENUNCIADA_NIVEL_INSTRU_SECUNDARIO INCOMPLETO                 0.28\n",
       "DENUNCIADA_NIVEL_INSTRU_SIN INSTRUCCION                       0.00\n",
       "DENUNCIADA_NIVEL_INSTRU_TERCIARIO COMPLETO                    0.05\n",
       "DENUNCIADA_NIVEL_INSTRU_TERCIARIO INCOMPLETO                  0.02\n",
       "DENUNCIADA_NIVEL_INSTRU_UNIVERSITARIO COMPLETO                0.06\n",
       "DENUNCIADA_NIVEL_INSTRU_UNIVERSITARIO INCOMPLETO              0.05\n",
       "Length: 133, dtype: float64"
      ]
     },
     "execution_count": 20,
     "metadata": {},
     "output_type": "execute_result"
    }
   ],
   "source": [
    "X.mean()"
   ]
  },
  {
   "cell_type": "code",
   "execution_count": 22,
   "metadata": {},
   "outputs": [
    {
     "data": {
      "text/plain": [
       "KNeighborsClassifier(algorithm='auto', leaf_size=30, metric='minkowski',\n",
       "                     metric_params=None, n_jobs=None, n_neighbors=19, p=2,\n",
       "                     weights='uniform')"
      ]
     },
     "execution_count": 22,
     "metadata": {},
     "output_type": "execute_result"
    }
   ],
   "source": [
    "model."
   ]
  },
  {
   "cell_type": "code",
   "execution_count": null,
   "metadata": {},
   "outputs": [],
   "source": []
  }
 ],
 "metadata": {
  "kernelspec": {
   "display_name": "Python 3",
   "language": "python",
   "name": "python3"
  },
  "language_info": {
   "codemirror_mode": {
    "name": "ipython",
    "version": 3
   },
   "file_extension": ".py",
   "mimetype": "text/x-python",
   "name": "python",
   "nbconvert_exporter": "python",
   "pygments_lexer": "ipython3",
   "version": "3.7.4"
  }
 },
 "nbformat": 4,
 "nbformat_minor": 4
}
