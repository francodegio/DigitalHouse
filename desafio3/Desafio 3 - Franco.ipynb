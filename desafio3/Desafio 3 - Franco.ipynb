{
 "cells": [
  {
   "cell_type": "markdown",
   "metadata": {},
   "source": [
    "# Desafío 3 - Grupo 3\n",
    "## Clasificador de riesgo de violencia doméstica\n",
    "\n",
    "### 1. Introducción\n",
    "\n",
    "El desafío consiste en tratar de predecir el nivel de riesgo de las denuncias que se realizan en en la Oficina de Violencia Doméstica (OVD).\n",
    "Los datos que disponemos corresponden a denuncias realizadas donde se detallan datos personales de la víctima, relación con el denunciado, tipo de violencia sufrida y tipo de acciones tomadas, tales como tipo de asistencia recibida y destino del legajo derivado.\n",
    "\n"
   ]
  },
  {
   "cell_type": "markdown",
   "metadata": {},
   "source": [
    "### 2. Importación de librerías"
   ]
  },
  {
   "cell_type": "markdown",
   "metadata": {},
   "source": [
    "### 3. Descripción de variables\n",
    "A continuación se detallan las variables incluidas en la base con una breve descripción de las mismas.\n",
    "\n",
    "- ID_DATOS_ABIERTOS_LEGAJO Código identificador del legajo al que pertenece la persona afectada\n",
    "- ID_DATOS_ABIERTOS_PERSONA Código identificador de la persona afectada\n",
    "- AÑO Año en el que fue realizada la presentación\n",
    "- MES Mes en el que fue realizada la presentación\n",
    "- INGRESO Indica por quién o a través de qué institución fue derivada a la OVD\n",
    "- LEG_TERCERA Identifica si el legajo al que pertenece la persona afectada fue iniciado por una tercera persona\n",
    "- SEXO_GENERO Indica el sexo/género de la persona afectada\n",
    "- GRUPO_EDAD Indica el grupo de edad de la persona afectada\n",
    "- EDAD Edad de la persona afectada\n",
    "- NACIONALIDAD Nacionalidad de la persona afectada\n",
    "- DOMICILIO_PROVINCIA Provincia en la que se domicilia la persona afectada\n",
    "- BARRIO Barrio en el que se domicilia la persona afectada\n",
    "- COMUNA Comuna en la que se domicilia la persona afectada\n",
    "- LOCALIDAD_OTRAS_PROVINCIAS Detalle de localidad extra jurisdiccional en la que se domicilia la persona afectada\n",
    "- NIVEL_INSTRUCCION Nivel de instrucción de la persona afectada\n",
    "- CONDICIÓN_LABORAL Condición laboral de la persona afectada\n",
    "- CATEGORIA_OCUPACIONAL Categoría ocupacional de la persona afectada -sólo para personas ocupadas\n",
    "- CATEGORIA_OCUPACIONAL_DETALLE Detalle de la categoría ocupacional de la persona afectada\n",
    "- RELACION_AFECTADA_DENUNCIADA Vínculo entre la persona afectada y la persona denunciada\n",
    "- COHABITAN Indica si la persona afectada y la denunciada cohabitan o cohabitaban hasta una semana previa a la denuncia\n",
    "- FRECUENCIA_EPISODIOS Indica la frecuencia de los episodios de violencia\n",
    "- V_FISICA Indica si se registró violencia física en la presentación\n",
    "- V_PSIC Indica si se registró violencia psicológica en la presentación\n",
    "- V_ECON Indica si se registró violencia económico patrimonial en la presentación\n",
    "- V_SEX Indica si se registró violencia sexual en la presentación\n",
    "- V_SOC Indica si se registró violencia social en la presentación\n",
    "- V_AMB Indica si se registró violencia ambiental en la presentación\n",
    "- V_SIMB Indica si se registró violencia simbólica en la presentación \n",
    "- <font color=\"blue\">EVA_RIESGO Indica la evaluación de riesgo efectuada por los equipos interdisciplinarios de la OVD (Variable Target)</font>\n",
    "- DENUNCIADA_SEXO_GENERO Indica el sexo/género de la persona denunciada\n",
    "- DENUNCIADA_EDAD Indica el grupo de edad de la persona denunciada\n",
    "- DENUNCIADA_COND_LAB Indica la condición laboral de la persona denunciada\n",
    "- DENUNCIADA_NIVEL_INSTRU Indica el nivel de instrucción de la persona denunciada\n",
    "- JNCIVIL Indica si en dicho legajo hubo derivación a la Justicia Nacional en lo Civil\n",
    "- JPENAL Indica si en dicho legajo hubo derivación a la Justicia Penal\n",
    "- ASJURIDICO Indica si en dicho legajo hubo derivación a Asesoramiento Jurídico\n",
    "- SISTSALUD Indica si en dicho legajo hubo derivación al sistema de salud\n",
    "- DGM Indica si en dicho legajo hubo derivación a la Dirección General de la\n",
    "- Mujer (C.A.B.A.)\n",
    "- CDNNYA Indica si en dicho legajo hubo derivación al Consejo de Derechos de\n",
    "- Niñas, Niños y Adolescentes (C.A.B.A.)\n",
    "- INSTNOJUDICIAL Indica si en dicho legajo hubo derivación a instancia no judicial\n",
    "- JUSPROV Indica si en dicho legajo hubo derivación a la Justicia Provincial\n",
    "- PROTEGER Indica si en dicho legajo hubo derivación al Programa Proteger (C.A.B.A.)\n",
    "- SZYPDN Indica si en dicho legajo hubo derivación al Servicio Zonal de Promoción y Protección Integral de los derechos de los niños\n",
    "- DGMREFUGIO Indica si en dicho legajo hubo derivación a la Dirección General de la Mujer – Refugio- (C.A.B.A.)\n",
    "- ROVD Indica si dicho legajo se reservó en la OVD\n",
    "- DPMENEINCAP Indica si en dicho legajo hubo derivación a la Defensoría Pública de Menores e Incapaces de la Nación.\n",
    "\n",
    "### 4. Procedemos a evaluar la cantidad de observaciones, features y el contenido de las mismas "
   ]
  },
  {
   "cell_type": "markdown",
   "metadata": {},
   "source": [
    "### 5. Elegimos las variables con las que vamos a trabajar para evitar data leakage"
   ]
  },
  {
   "cell_type": "markdown",
   "metadata": {},
   "source": [
    "### 6. Limpiamos los nulos"
   ]
  },
  {
   "cell_type": "markdown",
   "metadata": {},
   "source": [
    "### 7. Evaluamos las categorías de la variable target y nos aseguramos que no tenga NaN's."
   ]
  },
  {
   "cell_type": "markdown",
   "metadata": {},
   "source": [
    "### 8. A efectos de simplificar el modelo y mejorar la performance, optamos por agrupar todas las denuncias de alto y altísimo riesgo. Al resto las agrupamos en otro conjunto denominado \"Bajo\""
   ]
  },
  {
   "cell_type": "markdown",
   "metadata": {},
   "source": []
  },
  {
   "cell_type": "markdown",
   "metadata": {},
   "source": [
    "### 10. La cantidad de features generadas es considerable, por lo que reducimos la dimensionalidad con RFSE"
   ]
  },
  {
   "cell_type": "markdown",
   "metadata": {},
   "source": [
    "### 11. Análisis del caso\n",
    "\n",
    "Debido al tipo de información con la que estamos tratando, consideramos que es preferible tener Falsos Positivos (denuncias de bajo riesgo clasificadas como de alto riesgo) antes que tener Falsos Negativos. Si bien esto implicaría una mayor asignación de recursos para la OVD, debido a la naturaleza del problema nos parece conveniente Maximizar la ***Recall*** en vez de la *Accuracy*.\n",
    "\n",
    "Con esta decisión, optamos por optimizar los hiperparámetros de RFSE utilizando CV y usando como métrica target la Recall. El resultado de la función creada muestra el listado de features a mantener en el modelo."
   ]
  },
  {
   "cell_type": "markdown",
   "metadata": {},
   "source": [
    "### 12. Creamos una función que prueba distintos algoritmos de clasificación y los optimiza utilizando CV."
   ]
  },
  {
   "cell_type": "markdown",
   "metadata": {},
   "source": [
    "### 13. Definimos una función para evaluar los resultados"
   ]
  },
  {
   "cell_type": "markdown",
   "metadata": {},
   "source": [
    "### 14. En base a los resultados obtenidos representamos los resultados de cada clasificador"
   ]
  },
  {
   "cell_type": "markdown",
   "metadata": {},
   "source": [
    "#### K-Nearest Neighbours"
   ]
  },
  {
   "cell_type": "markdown",
   "metadata": {},
   "source": [
    "#### Gaussian Naive Bayes"
   ]
  },
  {
   "cell_type": "markdown",
   "metadata": {},
   "source": [
    "#### Multinomial Naive Bayes"
   ]
  },
  {
   "cell_type": "markdown",
   "metadata": {},
   "source": [
    "#### Random Forest"
   ]
  },
  {
   "cell_type": "markdown",
   "metadata": {},
   "source": [
    "#### Gradient Boosting"
   ]
  },
  {
   "cell_type": "markdown",
   "metadata": {},
   "source": [
    "### 15. Descripción del dataset\n",
    "\n",
    "Realizamos visualizaciones de distintas variables para evaluar las implicancias del mismo. Para acelerar el proceso, definimos una nueva función que construye un BarPlot de 2 variables."
   ]
  },
  {
   "cell_type": "markdown",
   "metadata": {},
   "source": [
    "#### Evaluación de Riesgo vs. Género. \n",
    "##### Representación en términos Absolutos"
   ]
  },
  {
   "cell_type": "markdown",
   "metadata": {},
   "source": [
    "##### Representación en términos relativos"
   ]
  },
  {
   "cell_type": "markdown",
   "metadata": {},
   "source": [
    "#### Evaluación de Riesgo vs. Género del denunciado\n",
    "##### Representación en términos absolutos"
   ]
  },
  {
   "cell_type": "markdown",
   "metadata": {},
   "source": [
    "##### Representación en términos relativos"
   ]
  },
  {
   "cell_type": "markdown",
   "metadata": {},
   "source": [
    "#### Evaluación de riesgo vs Nacionalidad\n",
    "##### Representación en términos absolutos"
   ]
  },
  {
   "cell_type": "markdown",
   "metadata": {},
   "source": [
    "##### Representación en términos relativos"
   ]
  },
  {
   "cell_type": "markdown",
   "metadata": {},
   "source": [
    "#### Evaluación de riesgo vs Edad del denunciante\n",
    "##### Representación en términos absolutos"
   ]
  },
  {
   "cell_type": "markdown",
   "metadata": {},
   "source": [
    "##### Representación en términos relativos"
   ]
  },
  {
   "cell_type": "markdown",
   "metadata": {},
   "source": [
    "#### Evaluación de Riesgo vs Edad del denunciado\n",
    "##### Representación en términos absolutos"
   ]
  },
  {
   "cell_type": "markdown",
   "metadata": {},
   "source": [
    "##### Representación en términos absolutos"
   ]
  }
 ],
 "metadata": {
  "kernelspec": {
   "display_name": "Python 3",
   "language": "python",
   "name": "python3"
  },
  "language_info": {
   "codemirror_mode": {
    "name": "ipython",
    "version": 3
   },
   "file_extension": ".py",
   "mimetype": "text/x-python",
   "name": "python",
   "nbconvert_exporter": "python",
   "pygments_lexer": "ipython3",
   "version": "3.7.4"
  }
 },
 "nbformat": 4,
 "nbformat_minor": 4
}
