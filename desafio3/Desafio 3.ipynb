{
 "cells": [
  {
   "cell_type": "markdown",
   "metadata": {},
   "source": [
    "# Desafío 3 - Grupo 3\n",
    "## Clasificador de riesgo de violencia doméstica\n",
    "\n",
    "### 1. Introducción\n",
    "\n",
    "El desafío consiste en tratar de predecir el nivel de riesgo de las denuncias que se realizan en en la Oficina de Violencia Doméstica (OVD).\n",
    "Los datos que disponemos corresponden a denuncias realizadas donde se detallan datos personales de la víctima, relación con el denunciado, tipo de violencia sufrida y tipo de acciones tomadas, tales como tipo de asistencia recibida y destino del legajo derivado.\n",
    "\n"
   ]
  },
  {
   "cell_type": "markdown",
   "metadata": {},
   "source": [
    "### 2. Importación de librerías"
   ]
  },
  {
   "cell_type": "code",
   "execution_count": 1,
   "metadata": {},
   "outputs": [],
   "source": [
    "import numpy as np\n",
    "import pandas as pd\n",
    "import geopandas as gpd\n",
    "import seaborn as sns\n",
    "import matplotlib.pyplot as plt\n",
    "%matplotlib inline\n",
    "\n",
    "from sklearn.model_selection import cross_val_score\n",
    "from sklearn.neighbors import KNeighborsClassifier\n",
    "from sklearn.metrics import confusion_matrix, accuracy_score\n",
    "\n",
    "import re\n",
    "pd.set_option('display.float_format', lambda x: '%.2f' % x)\n",
    "\n",
    "# Usamos esta variable para indicar si tiene que reejecutar todos los CV y GridSearch o usar los valores encontrados\n",
    "complete_execution = False\n"
   ]
  },
  {
   "cell_type": "markdown",
   "metadata": {},
   "source": [
    "### 3. Descripción de variables\n",
    "A continuación se detallan las variables incluidas en la base con una breve descripción de las mismas.\n",
    "\n",
    "- ID_DATOS_ABIERTOS_LEGAJO Código identificador del legajo al que pertenece la persona afectada\n",
    "- ID_DATOS_ABIERTOS_PERSONA Código identificador de la persona afectada\n",
    "- AÑO Año en el que fue realizada la presentación\n",
    "- MES Mes en el que fue realizada la presentación\n",
    "- INGRESO Indica por quién o a través de qué institución fue derivada a la OVD\n",
    "- LEG_TERCERA Identifica si el legajo al que pertenece la persona afectada fue iniciado por una tercera persona\n",
    "- SEXO_GENERO Indica el sexo/género de la persona afectada\n",
    "- GRUPO_EDAD Indica el grupo de edad de la persona afectada\n",
    "- EDAD Edad de la persona afectada\n",
    "- NACIONALIDAD Nacionalidad de la persona afectada\n",
    "- DOMICILIO_PROVINCIA Provincia en la que se domicilia la persona afectada\n",
    "- BARRIO Barrio en el que se domicilia la persona afectada\n",
    "- COMUNA Comuna en la que se domicilia la persona afectada\n",
    "- LOCALIDAD_OTRAS_PROVINCIAS Detalle de localidad extra jurisdiccional en la que se domicilia la persona afectada\n",
    "- NIVEL_INSTRUCCION Nivel de instrucción de la persona afectada\n",
    "- CONDICIÓN_LABORAL Condición laboral de la persona afectada\n",
    "- CATEGORIA_OCUPACIONAL Categoría ocupacional de la persona afectada -sólo para personas ocupadas\n",
    "- CATEGORIA_OCUPACIONAL_DETALLE Detalle de la categoría ocupacional de la persona afectada\n",
    "- RELACION_AFECTADA_DENUNCIADA Vínculo entre la persona afectada y la persona denunciada\n",
    "- COHABITAN Indica si la persona afectada y la denunciada cohabitan o cohabitaban hasta una semana previa a la denuncia\n",
    "- FRECUENCIA_EPISODIOS Indica la frecuencia de los episodios de violencia\n",
    "- V_FISICA Indica si se registró violencia física en la presentación\n",
    "- V_PSIC Indica si se registró violencia psicológica en la presentación\n",
    "- V_ECON Indica si se registró violencia económico patrimonial en la presentación\n",
    "- V_SEX Indica si se registró violencia sexual en la presentación\n",
    "- V_SOC Indica si se registró violencia social en la presentación\n",
    "- V_AMB Indica si se registró violencia ambiental en la presentación\n",
    "- V_SIMB Indica si se registró violencia simbólica en la presentación \n",
    "- <font color=\"blue\">EVA_RIESGO Indica la evaluación de riesgo efectuada por los equipos interdisciplinarios de la OVD (Variable Target)</font>\n",
    "- DENUNCIADA_SEXO_GENERO Indica el sexo/género de la persona denunciada\n",
    "- DENUNCIADA_EDAD Indica el grupo de edad de la persona denunciada\n",
    "- DENUNCIADA_COND_LAB Indica la condición laboral de la persona denunciada\n",
    "- DENUNCIADA_NIVEL_INSTRU Indica el nivel de instrucción de la persona denunciada\n",
    "- JNCIVIL Indica si en dicho legajo hubo derivación a la Justicia Nacional en lo Civil\n",
    "- JPENAL Indica si en dicho legajo hubo derivación a la Justicia Penal\n",
    "- ASJURIDICO Indica si en dicho legajo hubo derivación a Asesoramiento Jurídico\n",
    "- SISTSALUD Indica si en dicho legajo hubo derivación al sistema de salud\n",
    "- DGM Indica si en dicho legajo hubo derivación a la Dirección General de la\n",
    "- Mujer (C.A.B.A.)\n",
    "- CDNNYA Indica si en dicho legajo hubo derivación al Consejo de Derechos de\n",
    "- Niñas, Niños y Adolescentes (C.A.B.A.)\n",
    "- INSTNOJUDICIAL Indica si en dicho legajo hubo derivación a instancia no judicial\n",
    "- JUSPROV Indica si en dicho legajo hubo derivación a la Justicia Provincial\n",
    "- PROTEGER Indica si en dicho legajo hubo derivación al Programa Proteger (C.A.B.A.)\n",
    "- SZYPDN Indica si en dicho legajo hubo derivación al Servicio Zonal de Promoción y Protección Integral de los derechos de los niños\n",
    "- DGMREFUGIO Indica si en dicho legajo hubo derivación a la Dirección General de la Mujer – Refugio- (C.A.B.A.)\n",
    "- ROVD Indica si dicho legajo se reservó en la OVD\n",
    "- DPMENEINCAP Indica si en dicho legajo hubo derivación a la Defensoría Pública de Menores e Incapaces de la Nación.\n",
    "\n",
    "### 4. Procedemos a evaluar la cantidad de observaciones, features y el contenido de las mismas "
   ]
  },
  {
   "cell_type": "code",
   "execution_count": 2,
   "metadata": {},
   "outputs": [
    {
     "data": {
      "text/plain": [
       "(15374, 46)"
      ]
     },
     "execution_count": 2,
     "metadata": {},
     "output_type": "execute_result"
    }
   ],
   "source": [
    "column_names =  [\n",
    "    \"ID_DATOS_ABIERTOS_LEGAJO\",\"ID_DATOS_ABIERTOS_PERSONA\",\n",
    "    \"ANO\",\n",
    "    \"MES\",\n",
    "    \"INGRESO\",\n",
    "    \"LEG_TERCERA\",\n",
    "    \"SEXO_GENERO\",\n",
    "    \"GRUPO_EDAD\",\n",
    "    \"EDAD\",\n",
    "    \"NACIONALIDAD\",\n",
    "    \"DOMICILIO_PROVINCIA\",\n",
    "    \"BARRIO\",\n",
    "    \"COMUNA\",\n",
    "    \"LOCALIDAD_OTRAS_PROVINCIAS\",\n",
    "    \"NIVEL_INSTRU\",\n",
    "    \"CONDICION_LABORAL\",\n",
    "    \"CATEGORIA_OCUPACIONAL\",\n",
    "    \"CATEGORIA_OCUPACIONAL_DETALLE\",\n",
    "    \"RELACION_AFECTADA_DENUNCIADA\",\n",
    "    \"COHABITAN\",\n",
    "    \"FRECUENCIA_EPISODIOS\",\n",
    "    \"V_FISICA\",\"V_PSIC\",\"V_ECON\",\"V_SEX\",\"V_SOC\",\"V_AMB\",\"V_SIMB\",\n",
    "    \"EVA_RIESGO\",\n",
    "    \"DENUNCIADA_SEXO_GENERO\",\n",
    "    \"DENUNCIADA_EDAD\",\n",
    "    \"DENUNCIADA_COND_LAB\",\n",
    "    \"DENUNCIADA_NIVEL_INSTRU\",\n",
    "    \"JNCIVIL\",\n",
    "    \"JPENAL\",\n",
    "    \"ASJURIDICO\",\n",
    "    \"SISTSALUD\",\n",
    "    \"DGM\",\n",
    "    \"CONDNNYA\",\n",
    "    \"INSTNOJUDICIAL\",\n",
    "    \"JUSPROV\",\n",
    "    \"PROTEGER\",\n",
    "    \"SZYPDN\",\n",
    "    \"DGMREFUGIO\",\n",
    "    \"ROVD\",\n",
    "    \"DPMENEINCAP\"]\n",
    "df = pd.read_csv('ovddatosabiertos2018-1.csv',sep=';',names=column_names,skiprows=1,encoding = \"ISO-8859-1\")\n",
    "df.shape"
   ]
  },
  {
   "cell_type": "code",
   "execution_count": 3,
   "metadata": {},
   "outputs": [
    {
     "name": "stdout",
     "output_type": "stream",
     "text": [
      "<class 'pandas.core.frame.DataFrame'>\n",
      "RangeIndex: 15374 entries, 0 to 15373\n",
      "Data columns (total 46 columns):\n",
      "ID_DATOS_ABIERTOS_LEGAJO         15374 non-null object\n",
      "ID_DATOS_ABIERTOS_PERSONA        15374 non-null object\n",
      "ANO                              15374 non-null float64\n",
      "MES                              15374 non-null object\n",
      "INGRESO                          15374 non-null object\n",
      "LEG_TERCERA                      15374 non-null object\n",
      "SEXO_GENERO                      15374 non-null object\n",
      "GRUPO_EDAD                       15374 non-null object\n",
      "EDAD                             15374 non-null object\n",
      "NACIONALIDAD                     15368 non-null object\n",
      "DOMICILIO_PROVINCIA              14857 non-null object\n",
      "BARRIO                           13968 non-null object\n",
      "COMUNA                           13961 non-null object\n",
      "LOCALIDAD_OTRAS_PROVINCIAS       889 non-null object\n",
      "NIVEL_INSTRU                     15293 non-null object\n",
      "CONDICION_LABORAL                15318 non-null object\n",
      "CATEGORIA_OCUPACIONAL            7224 non-null object\n",
      "CATEGORIA_OCUPACIONAL_DETALLE    3931 non-null object\n",
      "RELACION_AFECTADA_DENUNCIADA     15368 non-null object\n",
      "COHABITAN                        15343 non-null object\n",
      "FRECUENCIA_EPISODIOS             15368 non-null object\n",
      "V_FISICA                         15368 non-null object\n",
      "V_PSIC                           15368 non-null object\n",
      "V_ECON                           15368 non-null object\n",
      "V_SEX                            15368 non-null object\n",
      "V_SOC                            15368 non-null object\n",
      "V_AMB                            15368 non-null object\n",
      "V_SIMB                           15368 non-null object\n",
      "EVA_RIESGO                       15368 non-null object\n",
      "DENUNCIADA_SEXO_GENERO           15372 non-null object\n",
      "DENUNCIADA_EDAD                  15372 non-null object\n",
      "DENUNCIADA_COND_LAB              14698 non-null object\n",
      "DENUNCIADA_NIVEL_INSTRU          14697 non-null object\n",
      "JNCIVIL                          15374 non-null object\n",
      "JPENAL                           15374 non-null object\n",
      "ASJURIDICO                       15374 non-null object\n",
      "SISTSALUD                        15374 non-null object\n",
      "DGM                              15374 non-null object\n",
      "CONDNNYA                         15374 non-null object\n",
      "INSTNOJUDICIAL                   15374 non-null object\n",
      "JUSPROV                          15374 non-null object\n",
      "PROTEGER                         15374 non-null object\n",
      "SZYPDN                           15374 non-null object\n",
      "DGMREFUGIO                       15374 non-null object\n",
      "ROVD                             15374 non-null object\n",
      "DPMENEINCAP                      15374 non-null object\n",
      "dtypes: float64(1), object(45)\n",
      "memory usage: 5.4+ MB\n"
     ]
    }
   ],
   "source": [
    "df.info()"
   ]
  },
  {
   "cell_type": "markdown",
   "metadata": {},
   "source": [
    "### 5. Elegimos las variables con las que vamos a trabajar para evitar data leakage"
   ]
  },
  {
   "cell_type": "code",
   "execution_count": 4,
   "metadata": {},
   "outputs": [],
   "source": [
    "#elegimos con que features vamos a trabajar\n",
    "features_columns=[\n",
    "    #\"ID_DATOS_ABIERTOS_LEGAJO\",\"ID_DATOS_ABIERTOS_PERSONA\",\"ANO\",\"MES\",\n",
    "    \"INGRESO\",\n",
    "    \"LEG_TERCERA\",\n",
    "    \"SEXO_GENERO\",\n",
    "    \"GRUPO_EDAD\",\n",
    "   # \"EDAD\",\n",
    "    \"NACIONALIDAD\",\n",
    "    \"DOMICILIO_PROVINCIA\",\n",
    "   # \"BARRIO\",\n",
    "   # \"COMUNA\",\n",
    "   # \"LOCALIDAD_OTRAS_PROVINCIAS\",\n",
    "    \"NIVEL_INSTRU\",\n",
    "    \"CONDICION_LABORAL\",\n",
    "    \"CATEGORIA_OCUPACIONAL\",\n",
    "   # \"CATEGORIA_OCUPACIONAL_DETALLE\",\n",
    "    \"RELACION_AFECTADA_DENUNCIADA\",\n",
    "    \"COHABITAN\",\n",
    "    \"FRECUENCIA_EPISODIOS\",\n",
    "    \"V_FISICA\",\"V_PSIC\",\"V_ECON\",\"V_SEX\",\"V_SOC\",\"V_AMB\",\"V_SIMB\",\n",
    "  ##  \"EVA_RIESGO\",\n",
    "    \"DENUNCIADA_SEXO_GENERO\",\n",
    "    \"DENUNCIADA_EDAD\",\n",
    "    \"DENUNCIADA_COND_LAB\",\n",
    "    \"DENUNCIADA_NIVEL_INSTRU\",\n",
    "  #  \"JNCIVIL\",\"JPENAL\",\"ASJURIDICO\",\"SISTSALUD\",\"DGM\",\"CONDNNYA\",\"INSTNOJUDICIAL\",\"JUSPROV\",\n",
    "  #  \"PROTEGER\",\"SZYPDN\",\"DGMREFUGIO\",\"ROVD\",\"DPMENEINCAP\"\n",
    "]"
   ]
  },
  {
   "cell_type": "markdown",
   "metadata": {},
   "source": [
    "### 6. Limpiamos los nulos"
   ]
  },
  {
   "cell_type": "code",
   "execution_count": 5,
   "metadata": {},
   "outputs": [],
   "source": [
    "def nulos(serie):\n",
    "    return df.loc[df[serie] == '#¡NULO!']"
   ]
  },
  {
   "cell_type": "code",
   "execution_count": 6,
   "metadata": {},
   "outputs": [
    {
     "name": "stdout",
     "output_type": "stream",
     "text": [
      "(0, 46)\n",
      "(0, 46)\n",
      "(0, 46)\n",
      "(0, 46)\n",
      "(0, 46)\n",
      "(0, 46)\n",
      "(0, 46)\n",
      "(0, 46)\n",
      "(57, 46)\n",
      "(0, 46)\n",
      "(0, 46)\n",
      "(0, 46)\n",
      "(0, 46)\n",
      "(0, 46)\n",
      "(0, 46)\n",
      "(0, 46)\n",
      "(0, 46)\n",
      "(0, 46)\n",
      "(0, 46)\n",
      "(0, 46)\n",
      "(0, 46)\n",
      "(0, 46)\n",
      "(0, 46)\n",
      "(0, 46)\n",
      "(0, 46)\n",
      "(0, 46)\n",
      "(0, 46)\n",
      "(0, 46)\n",
      "(0, 46)\n",
      "(0, 46)\n",
      "(0, 46)\n",
      "(0, 46)\n",
      "(0, 46)\n",
      "(0, 46)\n",
      "(0, 46)\n",
      "(0, 46)\n",
      "(0, 46)\n",
      "(0, 46)\n",
      "(0, 46)\n",
      "(0, 46)\n",
      "(0, 46)\n",
      "(0, 46)\n",
      "(0, 46)\n",
      "(0, 46)\n",
      "(0, 46)\n",
      "(0, 46)\n"
     ]
    },
    {
     "name": "stderr",
     "output_type": "stream",
     "text": [
      "/home/santiago/anaconda3/lib/python3.7/site-packages/pandas/core/ops.py:1649: FutureWarning: elementwise comparison failed; returning scalar instead, but in the future will perform elementwise comparison\n",
      "  result = method(y)\n"
     ]
    }
   ],
   "source": [
    "for col in df.columns:\n",
    "    print(nulos(col).shape)"
   ]
  },
  {
   "cell_type": "markdown",
   "metadata": {},
   "source": [
    "### 7. Evaluamos las categorías de la variable target y nos aseguramos que no tenga NaN's."
   ]
  },
  {
   "cell_type": "code",
   "execution_count": 7,
   "metadata": {},
   "outputs": [
    {
     "data": {
      "text/plain": [
       "{'ALTISIMO', 'ALTO', 'BAJO', 'MEDIO', 'MODERADO', nan}"
      ]
     },
     "execution_count": 7,
     "metadata": {},
     "output_type": "execute_result"
    }
   ],
   "source": [
    "set(df[\"EVA_RIESGO\"])"
   ]
  },
  {
   "cell_type": "markdown",
   "metadata": {},
   "source": [
    "Tiene algo de informacion basura asique la tiramos y volvemos a ver las opciones"
   ]
  },
  {
   "cell_type": "code",
   "execution_count": 8,
   "metadata": {},
   "outputs": [
    {
     "data": {
      "text/plain": [
       "(15368, 46)"
      ]
     },
     "execution_count": 8,
     "metadata": {},
     "output_type": "execute_result"
    }
   ],
   "source": [
    "df.drop(df.loc[df[\"EVA_RIESGO\"].isna()].index,inplace=True)\n",
    "df.shape"
   ]
  },
  {
   "cell_type": "code",
   "execution_count": 9,
   "metadata": {},
   "outputs": [
    {
     "data": {
      "text/plain": [
       "{'ALTISIMO', 'ALTO', 'BAJO', 'MEDIO', 'MODERADO'}"
      ]
     },
     "execution_count": 9,
     "metadata": {},
     "output_type": "execute_result"
    }
   ],
   "source": [
    "set(df[\"EVA_RIESGO\"])"
   ]
  },
  {
   "cell_type": "markdown",
   "metadata": {},
   "source": [
    "### 8. A efectos de simplificar el modelo y mejorar la performance, optamos por agrupar todas las denuncias de alto y altísimo riesgo. Al resto las agrupamos en otro conjunto denominado \"Bajo\""
   ]
  },
  {
   "cell_type": "code",
   "execution_count": 75,
   "metadata": {},
   "outputs": [],
   "source": [
    "from sklearn.model_selection import train_test_split, KFold, cross_val_score\n",
    "y=((df[\"EVA_RIESGO\"]==\"ALTO\") | (df[\"EVA_RIESGO\"]==\"ALTISIMO\")).astype(\"int\")"
   ]
  },
  {
   "cell_type": "markdown",
   "metadata": {},
   "source": [
    "### 9. Debido a que son todas variables categóricas, las vectorizamos creando dummies. También separamos el dataset entre Train y Test para evaluar el clasificador"
   ]
  },
  {
   "cell_type": "code",
   "execution_count": null,
   "metadata": {},
   "outputs": [],
   "source": [
    "X=pd.get_dummies(df[features_columns],drop_first=1)\n",
    "X_train,X_test,y_train,y_test = train_test_split(X, y, test_size=0.30, random_state=1,stratify=df['EVA_RIESGO'])"
   ]
  },
  {
   "cell_type": "code",
   "execution_count": 11,
   "metadata": {},
   "outputs": [
    {
     "data": {
      "text/plain": [
       "{'ALTISIMO', 'ALTO', 'BAJO', 'MEDIO', 'MODERADO'}"
      ]
     },
     "execution_count": 11,
     "metadata": {},
     "output_type": "execute_result"
    }
   ],
   "source": [
    "#X.shape\n",
    "set(df[\"EVA_RIESGO\"])"
   ]
  },
  {
   "cell_type": "code",
   "execution_count": 12,
   "metadata": {},
   "outputs": [
    {
     "data": {
      "text/plain": [
       "(15368, 133)"
      ]
     },
     "execution_count": 12,
     "metadata": {},
     "output_type": "execute_result"
    }
   ],
   "source": [
    "X.shape"
   ]
  },
  {
   "cell_type": "markdown",
   "metadata": {},
   "source": [
    "##### Hacemos una matriz de correlacion"
   ]
  },
  {
   "cell_type": "code",
   "execution_count": 13,
   "metadata": {},
   "outputs": [],
   "source": [
    "def matrix_cor(X):\n",
    "    mat=X.corr()\n",
    "    fig, ax = plt.subplots()\n",
    "    sns.heatmap(mat, square=True, annot=True, fmt='.2f', cbar=False,vmin=-1, vmax=1, center=0,cmap=sns.diverging_palette(20, 220, n=200))\n",
    "    ax.set_ylim(len(mat)+0.5,-0.5,-0.5,-0.5);\n",
    "    ax.set_xticklabels(ax.get_xticklabels(),    rotation=45,    horizontalalignment='right');\n",
    "    ax.set_yticklabels(ax.get_yticklabels(),    rotation=45,    horizontalalignment='right');\n",
    "if(complete_execution):\n",
    "    matrix_cor(X)"
   ]
  },
  {
   "cell_type": "markdown",
   "metadata": {},
   "source": [
    "Es bastante dificil de analizar porque son muchas features"
   ]
  },
  {
   "cell_type": "markdown",
   "metadata": {},
   "source": [
    "### 10. La cantidad de features generadas es considerable, por lo que reducimos la dimensionalidad con RFSE"
   ]
  },
  {
   "cell_type": "code",
   "execution_count": 14,
   "metadata": {},
   "outputs": [],
   "source": [
    "from sklearn.linear_model import LinearRegression\n",
    "from sklearn.feature_selection import RFE\n",
    "\n",
    "def featureSelectionFixed(X,y,X_train,y_train,features=50):\n",
    "    \n",
    "    estimator = LinearRegression()\n",
    "\n",
    "    selector = RFE(estimator, n_features_to_select=features, step = 1,)\n",
    "    _ = selector.fit(X_train, y_train)\n",
    "\n",
    "    scores = pd.DataFrame()\n",
    "    scores[\"Attribute Name\"] = X.columns\n",
    "    scores[\"Ranking\"] = selector.ranking_\n",
    "    scores[\"Support\"] = selector.support_\n",
    "\n",
    "    print(scores)\n",
    "    X=X.loc[:,selector.support_]\n",
    "    X_train,X_test,y_train,y_test = train_test_split(X, y, test_size=0.30, random_state=1,stratify=df['EVA_RIESGO'])\n",
    "    return (X,X_train,X_test,y_train,y_test)\n",
    "# X,X_train,X_test,y_train,y_test = featureSelectionFixed(X,y,X_train,y_train)"
   ]
  },
  {
   "cell_type": "markdown",
   "metadata": {},
   "source": [
    "Quizas mejor buscar la cantidad de features por CV"
   ]
  },
  {
   "cell_type": "markdown",
   "metadata": {},
   "source": [
    "### 11. Análisis del caso\n",
    "\n",
    "Debido al tipo de información con la que estamos tratando, consideramos que es preferible tener Falsos Positivos (denuncias de bajo riesgo clasificadas como de alto riesgo) antes que tener Falsos Negativos. Si bien esto implicaría una mayor asignación de recursos para la OVD, debido a la naturaleza del problema nos parece conveniente Maximizar la ***Recall*** en vez de la *Accuracy*.\n",
    "\n",
    "Con esta decisión, optamos por optimizar los hiperparámetros de RFSE utilizando CV y usando como métrica target la Recall. El resultado de la función creada muestra el listado de features a mantener en el modelo."
   ]
  },
  {
   "cell_type": "code",
   "execution_count": 76,
   "metadata": {},
   "outputs": [
    {
     "name": "stdout",
     "output_type": "stream",
     "text": [
      "N_features 81\n",
      "                                        Attribute Name  Ranking  Support  \\\n",
      "0    INGRESO_CONSEJO DE DERECHOS DE  NIÑAS/OS Y ADO...       16    False   \n",
      "1                INGRESO_DIRECCION GENERAL DE LA MUJER        5    False   \n",
      "2                                      INGRESO_DIRECTA        1     True   \n",
      "3                         INGRESO_FUERZAS DE SEGURIDAD        6    False   \n",
      "4                                     INGRESO_JUSTICIA        7    False   \n",
      "5                                    INGRESO_LINEA 144        1     True   \n",
      "6                                        INGRESO_OTROS        1     True   \n",
      "7                   INGRESO_PROFESIONAL DE LA ABOGACIA        1     True   \n",
      "8      INGRESO_PROGRAMA VICTIMAS CONTRA LAS VIOLENCIAS        1     True   \n",
      "9                INGRESO_REFERENCIAS DE OTRAS PERSONAS        1     True   \n",
      "10                            INGRESO_SISTEMA DE SALUD       32    False   \n",
      "11                                      LEG_TERCERA_SI       48    False   \n",
      "12                                   SEXO_GENERO_VARON        1     True   \n",
      "13                     GRUPO_EDAD_ADULTAS (30-39 AÑOS)       20    False   \n",
      "14                     GRUPO_EDAD_ADULTAS (40-49 AÑOS)       25    False   \n",
      "15                     GRUPO_EDAD_ADULTAS (50-59 AÑOS)        1     True   \n",
      "16                     GRUPO_EDAD_JOVENES (18-21 AÑOS)       24    False   \n",
      "17                     GRUPO_EDAD_MAYORES (60-74 AÑOS)        1     True   \n",
      "18                   GRUPO_EDAD_MAYORES MAS DE 74 AÑOS       17    False   \n",
      "19                     GRUPO_EDAD_NIÑAS/OS ( 0-5 AÑOS)        1     True   \n",
      "20                    GRUPO_EDAD_NIÑAS/OS ( 6-10 AÑOS)        1     True   \n",
      "21                    GRUPO_EDAD_NIÑAS/OS (11-14 AÑOS)        1     True   \n",
      "22                    GRUPO_EDAD_NIÑAS/OS (15-17 AÑOS)        1     True   \n",
      "23                              NACIONALIDAD_ARGENTINA        1     True   \n",
      "24                   NACIONALIDAD_ARGENTINA - ESPAÑOLA        1     True   \n",
      "25                                NACIONALIDAD_ARMENIO        1     True   \n",
      "26                                NACIONALIDAD_BOLIVIA       44    False   \n",
      "27                                 NACIONALIDAD_BRASIL       43    False   \n",
      "28                                  NACIONALIDAD_CHILE        1     True   \n",
      "29                                  NACIONALIDAD_CHINA        1     True   \n",
      "..                                                 ...      ...      ...   \n",
      "103                       FRECUENCIA_EPISODIOS_SEMANAL        1     True   \n",
      "104                                        V_FISICA_SI        1     True   \n",
      "105                                          V_PSIC_SI        1     True   \n",
      "106                                          V_ECON_SI        1     True   \n",
      "107                                           V_SEX_SI        1     True   \n",
      "108                                           V_SOC_SI        1     True   \n",
      "109                                           V_AMB_SI        1     True   \n",
      "110                                          V_SIMB_SI        1     True   \n",
      "111                       DENUNCIADA_SEXO_GENERO_VARON        1     True   \n",
      "112               DENUNCIADA_EDAD_ADULTAS (30-39 AÑOS)       21    False   \n",
      "113               DENUNCIADA_EDAD_ADULTAS (40-49 AÑOS)       18    False   \n",
      "114               DENUNCIADA_EDAD_ADULTAS (50-59 AÑOS)       22    False   \n",
      "115               DENUNCIADA_EDAD_JOVENES (18-21 AÑOS)       23    False   \n",
      "116               DENUNCIADA_EDAD_MAYORES (60-74 AÑOS)        1     True   \n",
      "117             DENUNCIADA_EDAD_MAYORES MAS DE 74 AÑOS        1     True   \n",
      "118              DENUNCIADA_EDAD_NIÑAS/OS (11-14 AÑOS)        1     True   \n",
      "119              DENUNCIADA_EDAD_NIÑAS/OS (15-17 AÑOS)       19    False   \n",
      "120                       DENUNCIADA_COND_LAB_INFANCIA        1     True   \n",
      "121          DENUNCIADA_COND_LAB_JUBILADA / PENSIONADA        1     True   \n",
      "122             DENUNCIADA_COND_LAB_OCUPADA REMUNERADA        1     True   \n",
      "123                 DENUNCIADA_COND_LAB_OTRA SITUACION       31    False   \n",
      "124  DENUNCIADA_COND_LAB_TRABAJA SIN REMUNERACION -...        1     True   \n",
      "125        DENUNCIADA_NIVEL_INSTRU_PRIMARIO INCOMPLETO        1     True   \n",
      "126        DENUNCIADA_NIVEL_INSTRU_SECUNDARIO COMPLETO        1     True   \n",
      "127      DENUNCIADA_NIVEL_INSTRU_SECUNDARIO INCOMPLETO       14    False   \n",
      "128            DENUNCIADA_NIVEL_INSTRU_SIN INSTRUCCION        1     True   \n",
      "129         DENUNCIADA_NIVEL_INSTRU_TERCIARIO COMPLETO        1     True   \n",
      "130       DENUNCIADA_NIVEL_INSTRU_TERCIARIO INCOMPLETO        1     True   \n",
      "131     DENUNCIADA_NIVEL_INSTRU_UNIVERSITARIO COMPLETO        1     True   \n",
      "132   DENUNCIADA_NIVEL_INSTRU_UNIVERSITARIO INCOMPLETO        1     True   \n",
      "\n",
      "     Grid Scores %s  \n",
      "0              0.10  \n",
      "1              0.17  \n",
      "2              0.15  \n",
      "3              0.13  \n",
      "4              0.14  \n",
      "5              0.18  \n",
      "6              0.24  \n",
      "7              0.27  \n",
      "8              0.33  \n",
      "9              0.35  \n",
      "10             0.38  \n",
      "11             0.41  \n",
      "12             0.41  \n",
      "13             0.42  \n",
      "14             0.43  \n",
      "15             0.43  \n",
      "16             0.45  \n",
      "17             0.47  \n",
      "18             0.50  \n",
      "19             0.52  \n",
      "20             0.53  \n",
      "21             0.53  \n",
      "22             0.52  \n",
      "23             0.52  \n",
      "24             0.53  \n",
      "25             0.55  \n",
      "26             0.58  \n",
      "27             0.57  \n",
      "28             0.56  \n",
      "29             0.55  \n",
      "..              ...  \n",
      "103            0.61  \n",
      "104            0.61  \n",
      "105            0.61  \n",
      "106            0.61  \n",
      "107            0.61  \n",
      "108            0.60  \n",
      "109            0.60  \n",
      "110            0.60  \n",
      "111            0.60  \n",
      "112            0.60  \n",
      "113            0.61  \n",
      "114            0.61  \n",
      "115            0.60  \n",
      "116            0.60  \n",
      "117            0.60  \n",
      "118            0.60  \n",
      "119            0.61  \n",
      "120            0.60  \n",
      "121            0.60  \n",
      "122            0.60  \n",
      "123            0.60  \n",
      "124            0.60  \n",
      "125            0.60  \n",
      "126            0.60  \n",
      "127            0.60  \n",
      "128            0.60  \n",
      "129            0.60  \n",
      "130            0.60  \n",
      "131            0.60  \n",
      "132            0.60  \n",
      "\n",
      "[133 rows x 4 columns]\n"
     ]
    }
   ],
   "source": [
    "from sklearn.feature_selection import RFECV\n",
    "from sklearn.model_selection import StratifiedKFold\n",
    "from sklearn.ensemble import RandomForestClassifier\n",
    "from sklearn.ensemble import AdaBoostClassifier\n",
    "from sklearn.ensemble import GradientBoostingClassifier\n",
    "\n",
    "import sklearn.linear_model as lm\n",
    "import warnings\n",
    "\n",
    "\n",
    "def featureSelectionRFECV(X,y,X_train,y_train):\n",
    "    \n",
    "    warnings.simplefilter(action='ignore', category=FutureWarning)\n",
    "    \n",
    "    # estimator = LinearRegression()\n",
    "    estimator = lm.LogisticRegression() \n",
    "    # estimator = RandomForestClassifier(n_jobs=-1, max_depth=10, n_estimators=15,)\n",
    "    # estimator = GradientBoostingClassifier(n_estimators=32,learning_rate=0.8)\n",
    "    #estimator = GaussianNB()\n",
    "    \n",
    "    \n",
    "    #selectorCV = RFECV(estimator, step=1, cv=StratifiedKFold(5), scoring='precision')\n",
    "    selectorCV = RFECV(estimator, step=1, cv=StratifiedKFold(5), scoring='recall')\n",
    "    #selectorCV = RFECV(estimator, step=1, cv=StratifiedKFold(5), scoring='accuracy')\n",
    "    #selectorCV = RFECV(estimator, step=1, cv=StratifiedKFold(5), scoring='roc_auc')\n",
    "    selectorCV = selectorCV.fit(X_train, y_train)\n",
    "    \n",
    "    scores = pd.DataFrame()\n",
    "    scores[\"Attribute Name\"] = X.columns\n",
    "    scores[\"Ranking\"] = selectorCV.ranking_\n",
    "    scores[\"Support\"] = selectorCV.support_\n",
    "    scores[\"Grid Scores %s\"] = selectorCV.grid_scores_\n",
    "    print(\"N_features %s\"%selectorCV.n_features_)\n",
    "\n",
    "    \n",
    "    print(scores)\n",
    "    X=X.loc[:,selectorCV.support_]\n",
    "    X_train,X_test,y_train,y_test = train_test_split(X, y, test_size=0.30, random_state=1,stratify=df['EVA_RIESGO'])\n",
    "    return (X,X_train,X_test,y_train,y_test)\n",
    "X,X_train,X_test,y_train,y_test = featureSelectionRFECV(X,y,X_train,y_train)"
   ]
  },
  {
   "cell_type": "markdown",
   "metadata": {},
   "source": [
    "Despues de probar las combinaciones de estimadores y opciones de scoring. Usamos el recall y como estimados la logaritmica. En combinacion con la GaussianNB tiene excelentes resultados"
   ]
  },
  {
   "cell_type": "markdown",
   "metadata": {},
   "source": [
    "### 12. Creamos una función que prueba distintos algoritmos de clasificación y los optimiza utilizando CV."
   ]
  },
  {
   "cell_type": "code",
   "execution_count": 2,
   "metadata": {},
   "outputs": [],
   "source": [
    "from sklearn.ensemble import ExtraTreesClassifier\n",
    "from sklearn.ensemble import RandomForestClassifier\n",
    "from sklearn.ensemble import AdaBoostClassifier\n",
    "from sklearn.ensemble import GradientBoostingClassifier\n",
    "from sklearn.naive_bayes import GaussianNB\n",
    "from sklearn.naive_bayes import MultinomialNB\n",
    "\n",
    "from sklearn.svm import SVC\n",
    "\n",
    "from sklearn.model_selection import GridSearchCV\n",
    "\n",
    "class EstimatorSelectionHelper:\n",
    "    \n",
    "    def __init__(self, models, params, scoring):\n",
    "        self.models = models\n",
    "        self.params = params\n",
    "        self.scoring = scoring\n",
    "        self.keys = models.keys()\n",
    "        self.grid_searches = {}\n",
    "    \n",
    "    def fit(self, X, y, **grid_kwargs):\n",
    "        for key in self.keys:\n",
    "            print('Running GridSearchCV for %s.' % key)\n",
    "            model = self.models[key]\n",
    "            params = self.params[key]\n",
    "            grid_search = GridSearchCV(model, params, **grid_kwargs)\n",
    "            \n",
    "            featureSelectorCV = RFECV(model, step=1, cv=StratifiedKFold(5), scoring=self.scoring)\n",
    "            featureSelectorCV = featureSelectorCV.fit(X, y)\n",
    "            \n",
    "            print('Features selected ' + featureSelectorCV.support_.sum().astype(\"str\"))\n",
    "            \n",
    "            grid_search.fit(X.loc[:,featureSelectorCV.support_], y)\n",
    "            self.grid_searches[key] = grid_search\n",
    "        print('Done.')\n",
    "    \n",
    "    def score_summary(self, sort_by='mean_test_score'):\n",
    "        frames = []\n",
    "        for name, grid_search in self.grid_searches.items():\n",
    "            frame = pd.DataFrame(grid_search.cv_results_)\n",
    "            frame = frame.filter(regex='^(?!.*param_).*$')\n",
    "            frame['estimator'] = len(frame)*[name]\n",
    "            frames.append(frame)\n",
    "        df = pd.concat(frames)\n",
    "        \n",
    "        df = df.sort_values([sort_by], ascending=False)\n",
    "        df = df.reset_index()\n",
    "        df = df.drop(['rank_test_score', 'index'], 1)\n",
    "        \n",
    "        columns = df.columns.tolist()\n",
    "        columns.remove('estimator')\n",
    "        columns = ['estimator']+columns\n",
    "        df = df[columns]\n",
    "        return df\n",
    "    \n",
    "def superSearchEstimator(X,y,X_train,y_train):\n",
    "    warnings.simplefilter(action='ignore', category=FutureWarning)\n",
    "    \n",
    "    \n",
    "    models1 = {\n",
    "        'ExtraTreesClassifier': ExtraTreesClassifier(),\n",
    "        'RandomForestClassifier': RandomForestClassifier(),\n",
    "        'AdaBoostClassifier': AdaBoostClassifier(),\n",
    "        'GradientBoostingClassifier': GradientBoostingClassifier(),\n",
    "        #'SVC': SVC(),\n",
    "    #    'KNeighborsClassifier': KNeighborsClassifier(),\n",
    "    #    'GaussianNBClassifier': GaussianNB(),\n",
    "    #    'MultinomialNBClassifier': MultinomialNB(),\n",
    "    }\n",
    "\n",
    "    params1 = {\n",
    "        'ExtraTreesClassifier': { 'n_estimators': [16, 32] },\n",
    "        'RandomForestClassifier': { 'n_estimators': [16, 32],'max_depth':[5,10,15,20] },\n",
    "        'AdaBoostClassifier':  { 'n_estimators': [16, 32] },\n",
    "        'GradientBoostingClassifier': { 'n_estimators': [16, 32], 'learning_rate': [0.8, 1.0] },\n",
    "        #'SVC': [{'kernel': ['linear'], 'C': [1, 10]},{'kernel': ['rbf'], 'C': [1, 10], 'gamma': [0.001, 0.0001]},],\n",
    "        'KNeighborsClassifier': { 'n_neighbors': [10,12]},\n",
    "        'GaussianNBClassifier': { },\n",
    "        'MultinomialNBClassifier': { 'alpha': [1.0e-10,1.0e-6,1.0e-2,1]}\n",
    "    }\n",
    "    \n",
    "    for scor in [\"precision\",\"recall\",\"accuracy\",\"roc_auc\"]:\n",
    "        print(\"With Scoring: \" + scor)\n",
    "        helper1 = EstimatorSelectionHelper(models1, params1,scor)\n",
    "        helper1.fit(X_train, y_train, scoring=scor, n_jobs=5, cv=StratifiedKFold(5))\n",
    "        display(helper1.score_summary())\n",
    "\n",
    "    #X=X.loc[:,selectorCV.support_]\n",
    "    #X_train,X_test,y_train,y_test = train_test_split(X, y, test_size=0.30, random_state=1,stratify=df['EVA_RIESGO'])\n",
    "    #return (X,X_train,X_test,y_train,y_test)\n",
    "#X,X_train,X_test,y_train,y_test = superSearchEstimator(X,y,X_train,y_train)\n",
    "#X.shape\n",
    "#if(complete_execution):\n",
    "    #superSearchEstimator(X,y,X_train,y_train)"
   ]
  },
  {
   "cell_type": "markdown",
   "metadata": {},
   "source": [
    "Como se puede ver buscamos los mejores hiperparametros para optimizar para recall, accuracy, roc_auc y precision.\n",
    "en todos los casos las 4 combinaciones de GradientBoostClassifier estaban siempre entre las 6 primeras opciones, con resultados muy similares. \n",
    "Una combinacion de AdaBoostClasiffier {'n_estimators': 32} y una de RandomForestClassifier ({'max_depth': 15, 'n_estimators': 32}) alternan entre el 3er y 6to puesto.\n",
    "\n",
    "\n",
    "### With Scoring: precision\n",
    "- Running GridSearchCV for ExtraTreesClassifier.\n",
    "Features selected 132\n",
    "- Running GridSearchCV for RandomForestClassifier.\n",
    "Features selected 93\n",
    "- Running GridSearchCV for AdaBoostClassifier.\n",
    "Features selected 44\n",
    "- Running GridSearchCV for GradientBoostingClassifier.\n",
    "Features selected 65\n",
    "Done.\n",
    "\n",
    "\n",
    "### With Scoring: recall\n",
    "- Running GridSearchCV for ExtraTreesClassifier.\n",
    "Features selected 56\n",
    "- Running GridSearchCV for RandomForestClassifier.\n",
    "Features selected 5\n",
    "- Running GridSearchCV for AdaBoostClassifier.\n",
    "Features selected 48\n",
    "- Running GridSearchCV for GradientBoostingClassifier.\n",
    "Features selected 87\n",
    "Done.\n",
    "\n",
    "\n",
    "### With Scoring: accuracy\n",
    "- Running GridSearchCV for ExtraTreesClassifier.\n",
    "Features selected 110\n",
    "- Running GridSearchCV for RandomForestClassifier.\n",
    "Features selected 70\n",
    "- Running GridSearchCV for AdaBoostClassifier.\n",
    "Features selected 44\n",
    "- Running GridSearchCV for GradientBoostingClassifier.\n",
    "Features selected 89\n",
    "Done.\n",
    "\n",
    "\n",
    "### With Scoring: roc_auc\n",
    "- Running GridSearchCV for ExtraTreesClassifier.\n",
    "Features selected 97\n",
    "- Running GridSearchCV for RandomForestClassifier.\n",
    "Features selected 96\n",
    "- Running GridSearchCV for AdaBoostClassifier.\n",
    "Features selected 48\n",
    "- Running GridSearchCV for GradientBoostingClassifier.\n",
    "Features selected 74\n",
    "Done."
   ]
  },
  {
   "cell_type": "markdown",
   "metadata": {},
   "source": [
    "##### Volvemos a hacer matriz de correlacion"
   ]
  },
  {
   "cell_type": "code",
   "execution_count": 18,
   "metadata": {},
   "outputs": [],
   "source": [
    "if(complete_execution):\n",
    "    matrix_cor(X)"
   ]
  },
  {
   "cell_type": "markdown",
   "metadata": {},
   "source": [
    "siguen siendo muchas features, buscaremos otras formas de trabajarlas"
   ]
  },
  {
   "cell_type": "markdown",
   "metadata": {},
   "source": [
    "### 13. Definimos una función para evaluar los resultados"
   ]
  },
  {
   "cell_type": "code",
   "execution_count": 19,
   "metadata": {},
   "outputs": [],
   "source": [
    "from sklearn.metrics import classification_report\n",
    "    \n",
    "def doMetrics(model,X_train,X_test,y_train,y_test):\n",
    "    #Flat Scoring\n",
    "    scoreByModel(model,X_train,X_test,y_train,y_test)\n",
    "    \n",
    "    #Graphic Scoring\n",
    "    y_pred = model.predict(X_test)\n",
    "    mat=confusion_matrix(y_test, y_pred)\n",
    "    fig, ax = plt.subplots()\n",
    "    sns.heatmap(mat, square=True, annot=True, fmt='d', cbar=False, xticklabels=[\"Bajo\",\"Alto\"], yticklabels=[\"Bajo\",\"Alto\"])\n",
    "    ax.set_ylim(2+0.5,-0.5,-0.5,-0.5);\n",
    "    \n",
    "    #Native more data\n",
    "    print(classification_report(y_test,y_pred))\n",
    "\n",
    "def scoreByModel(model,X_train,X_test,y_train,y_test):\n",
    "    print(\"Score Train : %.4f \" %  model.score(X_train, y_train))\n",
    "    print(\"Score Test : %.4f \" %  model.score(X_test, y_test))"
   ]
  },
  {
   "cell_type": "markdown",
   "metadata": {},
   "source": [
    "### 14. En base a los resultados obtenidos representamos los resultados de cada clasificador"
   ]
  },
  {
   "cell_type": "code",
   "execution_count": 20,
   "metadata": {},
   "outputs": [],
   "source": [
    "from sklearn.model_selection import KFold\n",
    "\n",
    "def scores_knn(X,y,start,stop,step):\n",
    "    scores_para_df = []\n",
    "    for i in range(start,stop,step):\n",
    "        model = KNeighborsClassifier(n_neighbors=i)\n",
    "        kf = KFold(n_splits=10, shuffle=True, random_state=10,)\n",
    "        cv_scores = cross_val_score(model, X, y, cv=kf)\n",
    "        dict_row_score = {'score_medio':np.mean(cv_scores),'score_std':np.std(cv_scores),'n_neighbours':i}\n",
    "        scores_para_df.append(dict_row_score)\n",
    "    df_scores = pd.DataFrame(scores_para_df)\n",
    "    df_scores['limite_inferior'] = df_scores['score_medio'] - df_scores['score_std']\n",
    "    df_scores['limite_superior'] = df_scores['score_medio'] + df_scores['score_std']\n",
    "    return df_scores"
   ]
  },
  {
   "cell_type": "code",
   "execution_count": 21,
   "metadata": {},
   "outputs": [],
   "source": [
    "# SON TODAS DUMMIES NO HACE FALTA ESCALAR \n",
    "# PERO PROBEMOS!\n",
    "#from sklearn.preprocessing import StandardScaler\n",
    "#scaler = StandardScaler()\n",
    "#X_train = scaler.fit_transform(X_train)\n",
    "#X_test = scaler.transform(X_test)\n",
    "\n",
    "# Descubramos los hiperparametros\n",
    "if(complete_execution):\n",
    "    df_scores= scores_knn(X_train, y_train, 1, 21, 1)\n",
    "else:\n",
    "    df_scores= scores_knn(X_train, y_train, 10, 11, 1)\n"
   ]
  },
  {
   "cell_type": "code",
   "execution_count": 22,
   "metadata": {},
   "outputs": [
    {
     "data": {
      "text/html": [
       "<div>\n",
       "<style scoped>\n",
       "    .dataframe tbody tr th:only-of-type {\n",
       "        vertical-align: middle;\n",
       "    }\n",
       "\n",
       "    .dataframe tbody tr th {\n",
       "        vertical-align: top;\n",
       "    }\n",
       "\n",
       "    .dataframe thead th {\n",
       "        text-align: right;\n",
       "    }\n",
       "</style>\n",
       "<table border=\"1\" class=\"dataframe\">\n",
       "  <thead>\n",
       "    <tr style=\"text-align: right;\">\n",
       "      <th></th>\n",
       "      <th>n_neighbours</th>\n",
       "      <th>score_medio</th>\n",
       "      <th>score_std</th>\n",
       "      <th>limite_inferior</th>\n",
       "      <th>limite_superior</th>\n",
       "    </tr>\n",
       "  </thead>\n",
       "  <tbody>\n",
       "    <tr>\n",
       "      <th>0</th>\n",
       "      <td>10</td>\n",
       "      <td>0.71</td>\n",
       "      <td>0.01</td>\n",
       "      <td>0.69</td>\n",
       "      <td>0.72</td>\n",
       "    </tr>\n",
       "  </tbody>\n",
       "</table>\n",
       "</div>"
      ],
      "text/plain": [
       "   n_neighbours  score_medio  score_std  limite_inferior  limite_superior\n",
       "0            10         0.71       0.01             0.69             0.72"
      ]
     },
     "execution_count": 22,
     "metadata": {},
     "output_type": "execute_result"
    },
    {
     "data": {
      "image/png": "[encoded data removed]",
      "text/plain": [
       "<Figure size 432x288 with 1 Axes>"
      ]
     },
     "metadata": {
      "needs_background": "light"
     },
     "output_type": "display_data"
    }
   ],
   "source": [
    "plt.plot(df_scores['n_neighbours'],df_scores['limite_inferior'],color='r')\n",
    "plt.plot(df_scores['n_neighbours'],df_scores['score_medio'],color='b')\n",
    "plt.plot(df_scores['n_neighbours'],df_scores['limite_superior'],color='r')\n",
    "plt.ylim(0.4, .99);\n",
    "\n",
    "df_scores"
   ]
  },
  {
   "cell_type": "markdown",
   "metadata": {},
   "source": [
    "#### K-Nearest Neighbours"
   ]
  },
  {
   "cell_type": "code",
   "execution_count": 77,
   "metadata": {},
   "outputs": [
    {
     "name": "stdout",
     "output_type": "stream",
     "text": [
      "Score Train : 0.7661 \n",
      "Score Test : 0.7100 \n",
      "              precision    recall  f1-score   support\n",
      "\n",
      "           0       0.73      0.84      0.78      2819\n",
      "           1       0.66      0.51      0.58      1792\n",
      "\n",
      "    accuracy                           0.71      4611\n",
      "   macro avg       0.70      0.67      0.68      4611\n",
      "weighted avg       0.70      0.71      0.70      4611\n",
      "\n"
     ]
    },
    {
     "data": {
      "image/png": "[encoded data removed]",
      "text/plain": [
       "<Figure size 432x288 with 1 Axes>"
      ]
     },
     "metadata": {
      "needs_background": "light"
     },
     "output_type": "display_data"
    }
   ],
   "source": [
    "best_k = df_scores.loc[df_scores.score_medio ==\\\n",
    "                               df_scores.score_medio.max(),'n_neighbours'].values\n",
    "\n",
    "model = KNeighborsClassifier(n_neighbors=best_k[0])\n",
    "model.fit(X_train,y_train)\n",
    "\n",
    "doMetrics(model,X_train,X_test,y_train,y_test)"
   ]
  },
  {
   "cell_type": "markdown",
   "metadata": {},
   "source": [
    "#### Gaussian Naive Bayes"
   ]
  },
  {
   "cell_type": "code",
   "execution_count": 78,
   "metadata": {},
   "outputs": [
    {
     "name": "stdout",
     "output_type": "stream",
     "text": [
      "Score Train : 0.6100 \n",
      "Score Test : 0.6155 \n",
      "              precision    recall  f1-score   support\n",
      "\n",
      "           0       0.82      0.48      0.60      2819\n",
      "           1       0.50      0.84      0.63      1792\n",
      "\n",
      "    accuracy                           0.62      4611\n",
      "   macro avg       0.66      0.66      0.62      4611\n",
      "weighted avg       0.70      0.62      0.61      4611\n",
      "\n"
     ]
    },
    {
     "data": {
      "image/png": "[encoded data removed]",
      "text/plain": [
       "<Figure size 432x288 with 1 Axes>"
      ]
     },
     "metadata": {
      "needs_background": "light"
     },
     "output_type": "display_data"
    }
   ],
   "source": [
    "from sklearn.naive_bayes import GaussianNB\n",
    "\n",
    "modelGaussianNB = GaussianNB()\n",
    "modelGaussianNB.fit(X_train, y_train);\n",
    "doMetrics(modelGaussianNB,X_train,X_test,y_train,y_test)"
   ]
  },
  {
   "cell_type": "markdown",
   "metadata": {},
   "source": [
    "## Es el que mejor recall tiene, pero probemos cambiar el treshold"
   ]
  },
  {
   "cell_type": "code",
   "execution_count": 114,
   "metadata": {},
   "outputs": [
    {
     "name": "stdout",
     "output_type": "stream",
     "text": [
      "              precision    recall  f1-score   support\n",
      "\n",
      "           0       0.80      0.59      0.68      2819\n",
      "           1       0.54      0.77      0.64      1792\n",
      "\n",
      "    accuracy                           0.66      4611\n",
      "   macro avg       0.67      0.68      0.66      4611\n",
      "weighted avg       0.70      0.66      0.66      4611\n",
      "\n"
     ]
    },
    {
     "data": {
      "image/png": "[encoded data removed]",
      "text/plain": [
       "<Figure size 432x288 with 1 Axes>"
      ]
     },
     "metadata": {
      "needs_background": "light"
     },
     "output_type": "display_data"
    }
   ],
   "source": [
    "pd.set_option('display.float_format', lambda x: '%.3f' % x)\n",
    "proba=pd.DataFrame(modelGaussianNB.predict_proba(X_test))\n",
    "\n",
    "\n",
    "#y_pred = proba.loc[proba.loc[:,1]>0.5].loc[:,1]\n",
    "y_pred = proba.loc[:,1]>0.95\n",
    "mat=confusion_matrix(y_test, y_pred)\n",
    "fig, ax = plt.subplots()\n",
    "sns.heatmap(mat, square=True, annot=True, fmt='d', cbar=False, xticklabels=[\"Bajo\",\"Alto\"], yticklabels=[\"Bajo\",\"Alto\"])\n",
    "ax.set_ylim(2+0.5,-0.5,-0.5,-0.5);\n",
    "\n",
    "#Native more data\n",
    "print(classification_report(y_test,y_pred))\n"
   ]
  },
  {
   "cell_type": "markdown",
   "metadata": {},
   "source": [
    "Con un treshold de .95 conseguimos reducir mas los FP aumentando relativamente muy poco los FN. lo elegímos porque maximiza los recursos del ministerio."
   ]
  },
  {
   "cell_type": "markdown",
   "metadata": {},
   "source": [
    "#### Multinomial Naive Bayes"
   ]
  },
  {
   "cell_type": "code",
   "execution_count": 79,
   "metadata": {},
   "outputs": [
    {
     "name": "stdout",
     "output_type": "stream",
     "text": [
      "Score Train : 0.7257 \n",
      "Score Test : 0.7358 \n",
      "              precision    recall  f1-score   support\n",
      "\n",
      "           0       0.76      0.82      0.79      2819\n",
      "           1       0.68      0.60      0.64      1792\n",
      "\n",
      "    accuracy                           0.74      4611\n",
      "   macro avg       0.72      0.71      0.71      4611\n",
      "weighted avg       0.73      0.74      0.73      4611\n",
      "\n"
     ]
    },
    {
     "data": {
      "image/png": "[encoded data removed]",
      "text/plain": [
       "<Figure size 432x288 with 1 Axes>"
      ]
     },
     "metadata": {
      "needs_background": "light"
     },
     "output_type": "display_data"
    }
   ],
   "source": [
    "from sklearn.naive_bayes import MultinomialNB\n",
    "\n",
    "# TODO TOFIX Acá se puede jugar con los hiperparametros\n",
    "modelMultinomialNB = MultinomialNB(alpha=1.0e-10)\n",
    "modelMultinomialNB.fit(X_train, y_train);\n",
    "doMetrics(modelMultinomialNB,X_train,X_test,y_train,y_test)\n"
   ]
  },
  {
   "cell_type": "markdown",
   "metadata": {},
   "source": [
    "#### Random Forest"
   ]
  },
  {
   "cell_type": "code",
   "execution_count": 80,
   "metadata": {},
   "outputs": [
    {
     "name": "stdout",
     "output_type": "stream",
     "text": [
      "Score Train : 0.7678 \n",
      "Score Test : 0.7356 \n",
      "              precision    recall  f1-score   support\n",
      "\n",
      "           0       0.74      0.86      0.80      2819\n",
      "           1       0.71      0.53      0.61      1792\n",
      "\n",
      "    accuracy                           0.74      4611\n",
      "   macro avg       0.73      0.70      0.71      4611\n",
      "weighted avg       0.73      0.74      0.73      4611\n",
      "\n"
     ]
    },
    {
     "data": {
      "image/png": "[encoded data removed]",
      "text/plain": [
       "<Figure size 432x288 with 1 Axes>"
      ]
     },
     "metadata": {
      "needs_background": "light"
     },
     "output_type": "display_data"
    }
   ],
   "source": [
    "# TODO TOFIX Acá se puede jugar con los hiperparametros\n",
    "modelRFC = RandomForestClassifier(n_jobs=-1, max_depth=10, n_estimators=15) \n",
    "modelRFC.fit(X_train, y_train);\n",
    "doMetrics(modelRFC,X_train,X_test,y_train,y_test)"
   ]
  },
  {
   "cell_type": "markdown",
   "metadata": {},
   "source": [
    "#### Gradient Boosting"
   ]
  },
  {
   "cell_type": "code",
   "execution_count": 81,
   "metadata": {},
   "outputs": [
    {
     "name": "stdout",
     "output_type": "stream",
     "text": [
      "Score Train : 0.7594 \n",
      "Score Test : 0.7424 \n",
      "              precision    recall  f1-score   support\n",
      "\n",
      "           0       0.77      0.83      0.80      2819\n",
      "           1       0.69      0.61      0.65      1792\n",
      "\n",
      "    accuracy                           0.74      4611\n",
      "   macro avg       0.73      0.72      0.72      4611\n",
      "weighted avg       0.74      0.74      0.74      4611\n",
      "\n"
     ]
    },
    {
     "data": {
      "image/png": "[encoded data removed]",
      "text/plain": [
       "<Figure size 432x288 with 1 Axes>"
      ]
     },
     "metadata": {
      "needs_background": "light"
     },
     "output_type": "display_data"
    }
   ],
   "source": [
    "# TODO TOFIX Acá se puede jugar con los hiperparametros\n",
    "modelGBC = GradientBoostingClassifier(n_estimators=32,learning_rate=0.8) \n",
    "modelGBC.fit(X_train, y_train);\n",
    "doMetrics(modelGBC,X_train,X_test,y_train,y_test)"
   ]
  },
  {
   "cell_type": "markdown",
   "metadata": {},
   "source": [
    "### 15. Descripción del dataset\n",
    "\n",
    "Realizamos visualizaciones de distintas variables para evaluar las implicancias del mismo. Para acelerar el proceso, definimos una nueva función que construye un BarPlot de 2 variables."
   ]
  },
  {
   "cell_type": "code",
   "execution_count": 28,
   "metadata": {},
   "outputs": [],
   "source": [
    "def barplotear(dataf,col1,col2,ylabel,xlabel):\n",
    "    plt.figure(figsize=(6,6))\n",
    "\n",
    "    # set width of bar\n",
    "    barWidth = 0.25\n",
    "    bars1 = dataf[col1]\n",
    "    bars2 = dataf[col2]\n",
    "\n",
    "    r1 = np.arange(len(bars1))\n",
    "    r2 = [x + barWidth for x in r1]\n",
    "\n",
    "    # Make the plot\n",
    "    plt.bar(r1, bars1, width=barWidth, edgecolor='white', label=col1)\n",
    "    #color='#7f6d5f',\n",
    "    plt.bar(r2, bars2, width=barWidth, edgecolor='white', label=col2)\n",
    "    #color='#557f2d', \n",
    "\n",
    "    # Add xticks on the middle of the group bars\n",
    "    plt.xlabel('group', fontweight='bold')\n",
    "    plt.xticks([r + barWidth for r in range(len(bars1))], dataf.index)\n",
    "\n",
    "    plt.ylabel(ylabel,rotation='vertical')\n",
    "    plt.xlabel(xlabel);\n",
    "    \n",
    "    \n",
    "    plt.xticks(\n",
    "        rotation=45, \n",
    "        horizontalalignment='right',\n",
    "        fontweight='light',\n",
    "        fontsize='x-large'  \n",
    "    )\n",
    "    \n",
    "    plt.legend()\n",
    "    plt.show()\n",
    "    #for tick in ax.get_xticklabels():\n",
    "    #    tick.set_rotation(45)\n"
   ]
  },
  {
   "cell_type": "markdown",
   "metadata": {},
   "source": [
    "### Evaluación de Riesgo vs. Género. \n",
    "#### Representación en términos Absolutos"
   ]
  },
  {
   "cell_type": "code",
   "execution_count": 29,
   "metadata": {},
   "outputs": [
    {
     "data": {
      "image/png": "[encoded data removed]",
      "text/plain": [
       "<Figure size 432x432 with 1 Axes>"
      ]
     },
     "metadata": {
      "needs_background": "light"
     },
     "output_type": "display_data"
    },
    {
     "data": {
      "text/html": [
       "<div>\n",
       "<style scoped>\n",
       "    .dataframe tbody tr th:only-of-type {\n",
       "        vertical-align: middle;\n",
       "    }\n",
       "\n",
       "    .dataframe tbody tr th {\n",
       "        vertical-align: top;\n",
       "    }\n",
       "\n",
       "    .dataframe thead th {\n",
       "        text-align: right;\n",
       "    }\n",
       "</style>\n",
       "<table border=\"1\" class=\"dataframe\">\n",
       "  <thead>\n",
       "    <tr style=\"text-align: right;\">\n",
       "      <th>SEXO_GENERO</th>\n",
       "      <th>MUJER</th>\n",
       "      <th>VARON</th>\n",
       "    </tr>\n",
       "  </thead>\n",
       "  <tbody>\n",
       "    <tr>\n",
       "      <th>ALTISIMO</th>\n",
       "      <td>795</td>\n",
       "      <td>240</td>\n",
       "    </tr>\n",
       "    <tr>\n",
       "      <th>ALTO</th>\n",
       "      <td>3915</td>\n",
       "      <td>1023</td>\n",
       "    </tr>\n",
       "    <tr>\n",
       "      <th>BAJO</th>\n",
       "      <td>925</td>\n",
       "      <td>810</td>\n",
       "    </tr>\n",
       "    <tr>\n",
       "      <th>MEDIO</th>\n",
       "      <td>3890</td>\n",
       "      <td>898</td>\n",
       "    </tr>\n",
       "    <tr>\n",
       "      <th>MODERADO</th>\n",
       "      <td>2173</td>\n",
       "      <td>699</td>\n",
       "    </tr>\n",
       "  </tbody>\n",
       "</table>\n",
       "</div>"
      ],
      "text/plain": [
       "SEXO_GENERO  MUJER  VARON\n",
       "ALTISIMO       795    240\n",
       "ALTO          3915   1023\n",
       "BAJO           925    810\n",
       "MEDIO         3890    898\n",
       "MODERADO      2173    699"
      ]
     },
     "execution_count": 29,
     "metadata": {},
     "output_type": "execute_result"
    }
   ],
   "source": [
    "group_name = df.groupby(['SEXO_GENERO', 'EVA_RIESGO'])\n",
    "pivoted=group_name.size().unstack().T\n",
    "pivoted.index = pivoted.index.array\n",
    "barplotear(pivoted,\"MUJER\",\"VARON\",'Cantidad',\"Tipo de Riesgo\")\n",
    "pivoted"
   ]
  },
  {
   "cell_type": "markdown",
   "metadata": {},
   "source": [
    "#### Representación en términos relativos"
   ]
  },
  {
   "cell_type": "code",
   "execution_count": 30,
   "metadata": {},
   "outputs": [
    {
     "data": {
      "image/png": "[encoded data removed]",
      "text/plain": [
       "<Figure size 432x432 with 1 Axes>"
      ]
     },
     "metadata": {
      "needs_background": "light"
     },
     "output_type": "display_data"
    },
    {
     "data": {
      "text/html": [
       "<div>\n",
       "<style scoped>\n",
       "    .dataframe tbody tr th:only-of-type {\n",
       "        vertical-align: middle;\n",
       "    }\n",
       "\n",
       "    .dataframe tbody tr th {\n",
       "        vertical-align: top;\n",
       "    }\n",
       "\n",
       "    .dataframe thead th {\n",
       "        text-align: right;\n",
       "    }\n",
       "</style>\n",
       "<table border=\"1\" class=\"dataframe\">\n",
       "  <thead>\n",
       "    <tr style=\"text-align: right;\">\n",
       "      <th></th>\n",
       "      <th>MUJER</th>\n",
       "      <th>VARON</th>\n",
       "    </tr>\n",
       "  </thead>\n",
       "  <tbody>\n",
       "    <tr>\n",
       "      <th>ALTISIMO</th>\n",
       "      <td>0.07</td>\n",
       "      <td>0.07</td>\n",
       "    </tr>\n",
       "    <tr>\n",
       "      <th>ALTO</th>\n",
       "      <td>0.33</td>\n",
       "      <td>0.28</td>\n",
       "    </tr>\n",
       "    <tr>\n",
       "      <th>BAJO</th>\n",
       "      <td>0.08</td>\n",
       "      <td>0.22</td>\n",
       "    </tr>\n",
       "    <tr>\n",
       "      <th>MEDIO</th>\n",
       "      <td>0.33</td>\n",
       "      <td>0.24</td>\n",
       "    </tr>\n",
       "    <tr>\n",
       "      <th>MODERADO</th>\n",
       "      <td>0.19</td>\n",
       "      <td>0.19</td>\n",
       "    </tr>\n",
       "  </tbody>\n",
       "</table>\n",
       "</div>"
      ],
      "text/plain": [
       "          MUJER  VARON\n",
       "ALTISIMO   0.07   0.07\n",
       "ALTO       0.33   0.28\n",
       "BAJO       0.08   0.22\n",
       "MEDIO      0.33   0.24\n",
       "MODERADO   0.19   0.19"
      ]
     },
     "execution_count": 30,
     "metadata": {},
     "output_type": "execute_result"
    }
   ],
   "source": [
    "pivotedPercent=pd.DataFrame([pivoted[col]/pivoted[col].sum() for col in pivoted.columns])\n",
    "barplotear(pivotedPercent.T,\"MUJER\",\"VARON\",'Porcentaje de distribucion',\"Tipo de Riesgo\")\n",
    "pivotedPercent.T\n"
   ]
  },
  {
   "cell_type": "markdown",
   "metadata": {},
   "source": [
    "### Evaluación de Riesgo vs. Género del denunciado\n",
    "#### Representación en términos absolutos"
   ]
  },
  {
   "cell_type": "code",
   "execution_count": 31,
   "metadata": {},
   "outputs": [
    {
     "data": {
      "image/png": "[encoded data removed]",
      "text/plain": [
       "<Figure size 432x432 with 1 Axes>"
      ]
     },
     "metadata": {
      "needs_background": "light"
     },
     "output_type": "display_data"
    },
    {
     "data": {
      "text/html": [
       "<div>\n",
       "<style scoped>\n",
       "    .dataframe tbody tr th:only-of-type {\n",
       "        vertical-align: middle;\n",
       "    }\n",
       "\n",
       "    .dataframe tbody tr th {\n",
       "        vertical-align: top;\n",
       "    }\n",
       "\n",
       "    .dataframe thead th {\n",
       "        text-align: right;\n",
       "    }\n",
       "</style>\n",
       "<table border=\"1\" class=\"dataframe\">\n",
       "  <thead>\n",
       "    <tr style=\"text-align: right;\">\n",
       "      <th>DENUNCIADA_SEXO_GENERO</th>\n",
       "      <th>MUJER</th>\n",
       "      <th>VARON</th>\n",
       "    </tr>\n",
       "  </thead>\n",
       "  <tbody>\n",
       "    <tr>\n",
       "      <th>ALTISIMO</th>\n",
       "      <td>70</td>\n",
       "      <td>964</td>\n",
       "    </tr>\n",
       "    <tr>\n",
       "      <th>ALTO</th>\n",
       "      <td>611</td>\n",
       "      <td>4326</td>\n",
       "    </tr>\n",
       "    <tr>\n",
       "      <th>BAJO</th>\n",
       "      <td>961</td>\n",
       "      <td>774</td>\n",
       "    </tr>\n",
       "    <tr>\n",
       "      <th>MEDIO</th>\n",
       "      <td>753</td>\n",
       "      <td>4035</td>\n",
       "    </tr>\n",
       "    <tr>\n",
       "      <th>MODERADO</th>\n",
       "      <td>790</td>\n",
       "      <td>2082</td>\n",
       "    </tr>\n",
       "  </tbody>\n",
       "</table>\n",
       "</div>"
      ],
      "text/plain": [
       "DENUNCIADA_SEXO_GENERO  MUJER  VARON\n",
       "ALTISIMO                   70    964\n",
       "ALTO                      611   4326\n",
       "BAJO                      961    774\n",
       "MEDIO                     753   4035\n",
       "MODERADO                  790   2082"
      ]
     },
     "execution_count": 31,
     "metadata": {},
     "output_type": "execute_result"
    }
   ],
   "source": [
    "group_name = df.groupby(['DENUNCIADA_SEXO_GENERO', 'EVA_RIESGO'])\n",
    "pivoted=group_name.size().unstack().T\n",
    "pivoted.index = pivoted.index.array\n",
    "barplotear(pivoted,\"MUJER\",\"VARON\",'Cantidad',\"Tipo de Riesgo\")\n",
    "pivoted\n"
   ]
  },
  {
   "cell_type": "markdown",
   "metadata": {},
   "source": [
    "#### Representación en términos relativos"
   ]
  },
  {
   "cell_type": "code",
   "execution_count": 32,
   "metadata": {},
   "outputs": [
    {
     "data": {
      "image/png": "[encoded data removed]",
      "text/plain": [
       "<Figure size 432x432 with 1 Axes>"
      ]
     },
     "metadata": {
      "needs_background": "light"
     },
     "output_type": "display_data"
    },
    {
     "data": {
      "text/html": [
       "<div>\n",
       "<style scoped>\n",
       "    .dataframe tbody tr th:only-of-type {\n",
       "        vertical-align: middle;\n",
       "    }\n",
       "\n",
       "    .dataframe tbody tr th {\n",
       "        vertical-align: top;\n",
       "    }\n",
       "\n",
       "    .dataframe thead th {\n",
       "        text-align: right;\n",
       "    }\n",
       "</style>\n",
       "<table border=\"1\" class=\"dataframe\">\n",
       "  <thead>\n",
       "    <tr style=\"text-align: right;\">\n",
       "      <th></th>\n",
       "      <th>MUJER</th>\n",
       "      <th>VARON</th>\n",
       "    </tr>\n",
       "  </thead>\n",
       "  <tbody>\n",
       "    <tr>\n",
       "      <th>ALTISIMO</th>\n",
       "      <td>0.02</td>\n",
       "      <td>0.08</td>\n",
       "    </tr>\n",
       "    <tr>\n",
       "      <th>ALTO</th>\n",
       "      <td>0.19</td>\n",
       "      <td>0.36</td>\n",
       "    </tr>\n",
       "    <tr>\n",
       "      <th>BAJO</th>\n",
       "      <td>0.30</td>\n",
       "      <td>0.06</td>\n",
       "    </tr>\n",
       "    <tr>\n",
       "      <th>MEDIO</th>\n",
       "      <td>0.24</td>\n",
       "      <td>0.33</td>\n",
       "    </tr>\n",
       "    <tr>\n",
       "      <th>MODERADO</th>\n",
       "      <td>0.25</td>\n",
       "      <td>0.17</td>\n",
       "    </tr>\n",
       "  </tbody>\n",
       "</table>\n",
       "</div>"
      ],
      "text/plain": [
       "          MUJER  VARON\n",
       "ALTISIMO   0.02   0.08\n",
       "ALTO       0.19   0.36\n",
       "BAJO       0.30   0.06\n",
       "MEDIO      0.24   0.33\n",
       "MODERADO   0.25   0.17"
      ]
     },
     "execution_count": 32,
     "metadata": {},
     "output_type": "execute_result"
    }
   ],
   "source": [
    "pivotedPercent=pd.DataFrame([pivoted[col]/pivoted[col].sum() for col in pivoted.columns])\n",
    "barplotear(pivotedPercent.T,\"MUJER\",\"VARON\",'Porcentaje de distribucion',\"Tipo de Riesgo\")\n",
    "pivotedPercent.T\n"
   ]
  },
  {
   "cell_type": "markdown",
   "metadata": {},
   "source": [
    "### Evaluación de riesgo vs Nacionalidad\n",
    "#### Representación en términos absolutos"
   ]
  },
  {
   "cell_type": "code",
   "execution_count": 33,
   "metadata": {},
   "outputs": [
    {
     "data": {
      "image/png": "[encoded data removed]",
      "text/plain": [
       "<Figure size 432x432 with 1 Axes>"
      ]
     },
     "metadata": {
      "needs_background": "light"
     },
     "output_type": "display_data"
    },
    {
     "data": {
      "text/html": [
       "<div>\n",
       "<style scoped>\n",
       "    .dataframe tbody tr th:only-of-type {\n",
       "        vertical-align: middle;\n",
       "    }\n",
       "\n",
       "    .dataframe tbody tr th {\n",
       "        vertical-align: top;\n",
       "    }\n",
       "\n",
       "    .dataframe thead th {\n",
       "        text-align: right;\n",
       "    }\n",
       "</style>\n",
       "<table border=\"1\" class=\"dataframe\">\n",
       "  <thead>\n",
       "    <tr style=\"text-align: right;\">\n",
       "      <th>TIPO_RIESGO</th>\n",
       "      <th>ALTO</th>\n",
       "      <th>BAJO</th>\n",
       "    </tr>\n",
       "  </thead>\n",
       "  <tbody>\n",
       "    <tr>\n",
       "      <th>ARGENTINA</th>\n",
       "      <td>4798.00</td>\n",
       "      <td>7600.00</td>\n",
       "    </tr>\n",
       "    <tr>\n",
       "      <th>BOLIVIA</th>\n",
       "      <td>411.00</td>\n",
       "      <td>477.00</td>\n",
       "    </tr>\n",
       "    <tr>\n",
       "      <th>PARAGUAY</th>\n",
       "      <td>326.00</td>\n",
       "      <td>486.00</td>\n",
       "    </tr>\n",
       "    <tr>\n",
       "      <th>PERU</th>\n",
       "      <td>274.00</td>\n",
       "      <td>467.00</td>\n",
       "    </tr>\n",
       "    <tr>\n",
       "      <th>URUGUAY</th>\n",
       "      <td>34.00</td>\n",
       "      <td>83.00</td>\n",
       "    </tr>\n",
       "    <tr>\n",
       "      <th>BRASIL</th>\n",
       "      <td>21.00</td>\n",
       "      <td>40.00</td>\n",
       "    </tr>\n",
       "    <tr>\n",
       "      <th>COLOMBIA</th>\n",
       "      <td>21.00</td>\n",
       "      <td>59.00</td>\n",
       "    </tr>\n",
       "    <tr>\n",
       "      <th>VENEZUELA</th>\n",
       "      <td>18.00</td>\n",
       "      <td>91.00</td>\n",
       "    </tr>\n",
       "    <tr>\n",
       "      <th>REPUBLICA DOMINICANA</th>\n",
       "      <td>14.00</td>\n",
       "      <td>13.00</td>\n",
       "    </tr>\n",
       "    <tr>\n",
       "      <th>CHILE</th>\n",
       "      <td>13.00</td>\n",
       "      <td>16.00</td>\n",
       "    </tr>\n",
       "  </tbody>\n",
       "</table>\n",
       "</div>"
      ],
      "text/plain": [
       "TIPO_RIESGO             ALTO    BAJO\n",
       "ARGENTINA            4798.00 7600.00\n",
       "BOLIVIA               411.00  477.00\n",
       "PARAGUAY              326.00  486.00\n",
       "PERU                  274.00  467.00\n",
       "URUGUAY                34.00   83.00\n",
       "BRASIL                 21.00   40.00\n",
       "COLOMBIA               21.00   59.00\n",
       "VENEZUELA              18.00   91.00\n",
       "REPUBLICA DOMINICANA   14.00   13.00\n",
       "CHILE                  13.00   16.00"
      ]
     },
     "execution_count": 33,
     "metadata": {},
     "output_type": "execute_result"
    }
   ],
   "source": [
    "df[\"TIPO_RIESGO\"] = y.replace(1, \"ALTO\").replace(0, \"BAJO\")  \n",
    "\n",
    "group_name = df.groupby(['NACIONALIDAD', 'TIPO_RIESGO'])\n",
    "pivoted=group_name.size().unstack()\n",
    "pivoted.index = pivoted.index.array\n",
    "pivoted=pivoted.fillna(0)\n",
    "barplotear(pivoted.drop(\"ARGENTINA\",axis=0).sort_values(by=['ALTO'],ascending=False).head(10),\"ALTO\",\"BAJO\",'Cantidad',\"Nacionalidad denunciante\")\n",
    "pivoted.sort_values(by=['ALTO'],ascending=False).head(10)\n"
   ]
  },
  {
   "cell_type": "markdown",
   "metadata": {},
   "source": [
    "#### Representación en términos relativos"
   ]
  },
  {
   "cell_type": "code",
   "execution_count": 34,
   "metadata": {},
   "outputs": [
    {
     "data": {
      "image/png": "[encoded data removed]",
      "text/plain": [
       "<Figure size 432x432 with 1 Axes>"
      ]
     },
     "metadata": {
      "needs_background": "light"
     },
     "output_type": "display_data"
    },
    {
     "data": {
      "text/html": [
       "<div>\n",
       "<style scoped>\n",
       "    .dataframe tbody tr th:only-of-type {\n",
       "        vertical-align: middle;\n",
       "    }\n",
       "\n",
       "    .dataframe tbody tr th {\n",
       "        vertical-align: top;\n",
       "    }\n",
       "\n",
       "    .dataframe thead th {\n",
       "        text-align: right;\n",
       "    }\n",
       "</style>\n",
       "<table border=\"1\" class=\"dataframe\">\n",
       "  <thead>\n",
       "    <tr style=\"text-align: right;\">\n",
       "      <th>TIPO_RIESGO</th>\n",
       "      <th>ALTO</th>\n",
       "      <th>BAJO</th>\n",
       "    </tr>\n",
       "  </thead>\n",
       "  <tbody>\n",
       "    <tr>\n",
       "      <th>ALEMANIA</th>\n",
       "      <td>0.00</td>\n",
       "      <td>1.00</td>\n",
       "    </tr>\n",
       "    <tr>\n",
       "      <th>ARGENTINA</th>\n",
       "      <td>0.39</td>\n",
       "      <td>0.61</td>\n",
       "    </tr>\n",
       "    <tr>\n",
       "      <th>ARGENTINA - ESPAÑOLA</th>\n",
       "      <td>0.50</td>\n",
       "      <td>0.50</td>\n",
       "    </tr>\n",
       "    <tr>\n",
       "      <th>ARMENIO</th>\n",
       "      <td>0.75</td>\n",
       "      <td>0.25</td>\n",
       "    </tr>\n",
       "    <tr>\n",
       "      <th>BOLIVIA</th>\n",
       "      <td>0.46</td>\n",
       "      <td>0.54</td>\n",
       "    </tr>\n",
       "    <tr>\n",
       "      <th>BRASIL</th>\n",
       "      <td>0.34</td>\n",
       "      <td>0.66</td>\n",
       "    </tr>\n",
       "    <tr>\n",
       "      <th>CHILE</th>\n",
       "      <td>0.45</td>\n",
       "      <td>0.55</td>\n",
       "    </tr>\n",
       "    <tr>\n",
       "      <th>CHINA</th>\n",
       "      <td>1.00</td>\n",
       "      <td>0.00</td>\n",
       "    </tr>\n",
       "    <tr>\n",
       "      <th>COLOMBIA</th>\n",
       "      <td>0.26</td>\n",
       "      <td>0.74</td>\n",
       "    </tr>\n",
       "    <tr>\n",
       "      <th>COREA DEL SUR</th>\n",
       "      <td>1.00</td>\n",
       "      <td>0.00</td>\n",
       "    </tr>\n",
       "    <tr>\n",
       "      <th>CUBA</th>\n",
       "      <td>0.00</td>\n",
       "      <td>1.00</td>\n",
       "    </tr>\n",
       "    <tr>\n",
       "      <th>ECUADOR</th>\n",
       "      <td>0.25</td>\n",
       "      <td>0.75</td>\n",
       "    </tr>\n",
       "    <tr>\n",
       "      <th>EGIPCIO</th>\n",
       "      <td>1.00</td>\n",
       "      <td>0.00</td>\n",
       "    </tr>\n",
       "    <tr>\n",
       "      <th>ESPAÑA</th>\n",
       "      <td>0.39</td>\n",
       "      <td>0.61</td>\n",
       "    </tr>\n",
       "    <tr>\n",
       "      <th>ESTADOS UNIDOS</th>\n",
       "      <td>0.50</td>\n",
       "      <td>0.50</td>\n",
       "    </tr>\n",
       "    <tr>\n",
       "      <th>FRANCIA</th>\n",
       "      <td>0.25</td>\n",
       "      <td>0.75</td>\n",
       "    </tr>\n",
       "    <tr>\n",
       "      <th>HAITI</th>\n",
       "      <td>0.38</td>\n",
       "      <td>0.62</td>\n",
       "    </tr>\n",
       "    <tr>\n",
       "      <th>HONDURAS</th>\n",
       "      <td>1.00</td>\n",
       "      <td>0.00</td>\n",
       "    </tr>\n",
       "    <tr>\n",
       "      <th>ISRAELI</th>\n",
       "      <td>0.00</td>\n",
       "      <td>1.00</td>\n",
       "    </tr>\n",
       "    <tr>\n",
       "      <th>ITALIA</th>\n",
       "      <td>0.50</td>\n",
       "      <td>0.50</td>\n",
       "    </tr>\n",
       "    <tr>\n",
       "      <th>MARRUECOS</th>\n",
       "      <td>1.00</td>\n",
       "      <td>0.00</td>\n",
       "    </tr>\n",
       "    <tr>\n",
       "      <th>MEXICO</th>\n",
       "      <td>0.50</td>\n",
       "      <td>0.50</td>\n",
       "    </tr>\n",
       "    <tr>\n",
       "      <th>NIGERIA</th>\n",
       "      <td>0.00</td>\n",
       "      <td>1.00</td>\n",
       "    </tr>\n",
       "    <tr>\n",
       "      <th>PARAGUAY</th>\n",
       "      <td>0.40</td>\n",
       "      <td>0.60</td>\n",
       "    </tr>\n",
       "    <tr>\n",
       "      <th>PERU</th>\n",
       "      <td>0.37</td>\n",
       "      <td>0.63</td>\n",
       "    </tr>\n",
       "    <tr>\n",
       "      <th>POLONIA</th>\n",
       "      <td>0.00</td>\n",
       "      <td>1.00</td>\n",
       "    </tr>\n",
       "    <tr>\n",
       "      <th>REPUBLICA DOMINICANA</th>\n",
       "      <td>0.52</td>\n",
       "      <td>0.48</td>\n",
       "    </tr>\n",
       "    <tr>\n",
       "      <th>SENEGAL</th>\n",
       "      <td>1.00</td>\n",
       "      <td>0.00</td>\n",
       "    </tr>\n",
       "    <tr>\n",
       "      <th>SUIZA</th>\n",
       "      <td>0.00</td>\n",
       "      <td>1.00</td>\n",
       "    </tr>\n",
       "    <tr>\n",
       "      <th>UCRANIANA</th>\n",
       "      <td>0.40</td>\n",
       "      <td>0.60</td>\n",
       "    </tr>\n",
       "    <tr>\n",
       "      <th>URUGUAY</th>\n",
       "      <td>0.29</td>\n",
       "      <td>0.71</td>\n",
       "    </tr>\n",
       "    <tr>\n",
       "      <th>VENEZUELA</th>\n",
       "      <td>0.17</td>\n",
       "      <td>0.83</td>\n",
       "    </tr>\n",
       "  </tbody>\n",
       "</table>\n",
       "</div>"
      ],
      "text/plain": [
       "TIPO_RIESGO           ALTO  BAJO\n",
       "ALEMANIA              0.00  1.00\n",
       "ARGENTINA             0.39  0.61\n",
       "ARGENTINA - ESPAÑOLA  0.50  0.50\n",
       "ARMENIO               0.75  0.25\n",
       "BOLIVIA               0.46  0.54\n",
       "BRASIL                0.34  0.66\n",
       "CHILE                 0.45  0.55\n",
       "CHINA                 1.00  0.00\n",
       "COLOMBIA              0.26  0.74\n",
       "COREA DEL SUR         1.00  0.00\n",
       "CUBA                  0.00  1.00\n",
       "ECUADOR               0.25  0.75\n",
       "EGIPCIO               1.00  0.00\n",
       "ESPAÑA                0.39  0.61\n",
       "ESTADOS UNIDOS        0.50  0.50\n",
       "FRANCIA               0.25  0.75\n",
       "HAITI                 0.38  0.62\n",
       "HONDURAS              1.00  0.00\n",
       "ISRAELI               0.00  1.00\n",
       "ITALIA                0.50  0.50\n",
       "MARRUECOS             1.00  0.00\n",
       "MEXICO                0.50  0.50\n",
       "NIGERIA               0.00  1.00\n",
       "PARAGUAY              0.40  0.60\n",
       "PERU                  0.37  0.63\n",
       "POLONIA               0.00  1.00\n",
       "REPUBLICA DOMINICANA  0.52  0.48\n",
       "SENEGAL               1.00  0.00\n",
       "SUIZA                 0.00  1.00\n",
       "UCRANIANA             0.40  0.60\n",
       "URUGUAY               0.29  0.71\n",
       "VENEZUELA             0.17  0.83"
      ]
     },
     "execution_count": 34,
     "metadata": {},
     "output_type": "execute_result"
    }
   ],
   "source": [
    "pivotedT=pivoted.T\n",
    "pivotedPercent=pd.DataFrame([pivotedT[col]/pivotedT[col].sum() for col in pivotedT.columns])\n",
    "barplotear(pivotedPercent.loc[pivoted[\"ALTO\"]+pivoted[\"BAJO\"]>2].sort_values(by=['ALTO'],ascending=False).head(15),\"ALTO\",\"BAJO\",'Porcentaje de distribucion',\"Nacionalidad denunciante\")\n",
    "pivotedPercent"
   ]
  },
  {
   "cell_type": "markdown",
   "metadata": {},
   "source": [
    "#### Evaluación de Riesgo vs Edad del denunciante\n",
    "### Representación en términos absolutos"
   ]
  },
  {
   "cell_type": "code",
   "execution_count": 35,
   "metadata": {},
   "outputs": [
    {
     "data": {
      "image/png": "[encoded data removed]",
      "text/plain": [
       "<Figure size 432x432 with 1 Axes>"
      ]
     },
     "metadata": {
      "needs_background": "light"
     },
     "output_type": "display_data"
    },
    {
     "data": {
      "text/html": [
       "<div>\n",
       "<style scoped>\n",
       "    .dataframe tbody tr th:only-of-type {\n",
       "        vertical-align: middle;\n",
       "    }\n",
       "\n",
       "    .dataframe tbody tr th {\n",
       "        vertical-align: top;\n",
       "    }\n",
       "\n",
       "    .dataframe thead th {\n",
       "        text-align: right;\n",
       "    }\n",
       "</style>\n",
       "<table border=\"1\" class=\"dataframe\">\n",
       "  <thead>\n",
       "    <tr style=\"text-align: right;\">\n",
       "      <th>TIPO_RIESGO</th>\n",
       "      <th>ALTO</th>\n",
       "      <th>BAJO</th>\n",
       "    </tr>\n",
       "  </thead>\n",
       "  <tbody>\n",
       "    <tr>\n",
       "      <th>ADULTAS (30-39 AÑOS)</th>\n",
       "      <td>1064</td>\n",
       "      <td>2243</td>\n",
       "    </tr>\n",
       "    <tr>\n",
       "      <th>ADULTAS (22-29 AÑOS)</th>\n",
       "      <td>962</td>\n",
       "      <td>1551</td>\n",
       "    </tr>\n",
       "    <tr>\n",
       "      <th>NIÑAS/OS ( 0-5 AÑOS)</th>\n",
       "      <td>947</td>\n",
       "      <td>760</td>\n",
       "    </tr>\n",
       "    <tr>\n",
       "      <th>NIÑAS/OS ( 6-10 AÑOS)</th>\n",
       "      <td>756</td>\n",
       "      <td>779</td>\n",
       "    </tr>\n",
       "    <tr>\n",
       "      <th>ADULTAS (40-49 AÑOS)</th>\n",
       "      <td>648</td>\n",
       "      <td>1551</td>\n",
       "    </tr>\n",
       "    <tr>\n",
       "      <th>NIÑAS/OS (11-14 AÑOS)</th>\n",
       "      <td>520</td>\n",
       "      <td>456</td>\n",
       "    </tr>\n",
       "    <tr>\n",
       "      <th>JOVENES (18-21 AÑOS)</th>\n",
       "      <td>335</td>\n",
       "      <td>439</td>\n",
       "    </tr>\n",
       "    <tr>\n",
       "      <th>NIÑAS/OS (15-17 AÑOS)</th>\n",
       "      <td>331</td>\n",
       "      <td>274</td>\n",
       "    </tr>\n",
       "    <tr>\n",
       "      <th>ADULTAS (50-59 AÑOS)</th>\n",
       "      <td>204</td>\n",
       "      <td>733</td>\n",
       "    </tr>\n",
       "    <tr>\n",
       "      <th>MAYORES (60-74 AÑOS)</th>\n",
       "      <td>133</td>\n",
       "      <td>465</td>\n",
       "    </tr>\n",
       "  </tbody>\n",
       "</table>\n",
       "</div>"
      ],
      "text/plain": [
       "TIPO_RIESGO            ALTO  BAJO\n",
       "ADULTAS (30-39 AÑOS)   1064  2243\n",
       "ADULTAS (22-29 AÑOS)    962  1551\n",
       "NIÑAS/OS ( 0-5 AÑOS)    947   760\n",
       "NIÑAS/OS ( 6-10 AÑOS)   756   779\n",
       "ADULTAS (40-49 AÑOS)    648  1551\n",
       "NIÑAS/OS (11-14 AÑOS)   520   456\n",
       "JOVENES (18-21 AÑOS)    335   439\n",
       "NIÑAS/OS (15-17 AÑOS)   331   274\n",
       "ADULTAS (50-59 AÑOS)    204   733\n",
       "MAYORES (60-74 AÑOS)    133   465"
      ]
     },
     "execution_count": 35,
     "metadata": {},
     "output_type": "execute_result"
    }
   ],
   "source": [
    "#df[\"TIPO_RIESGO\"] = y.replace(1, \"ALTO\").replace(0, \"BAJO\")  \n",
    "\n",
    "group_name = df.groupby(['GRUPO_EDAD', 'TIPO_RIESGO'])\n",
    "pivoted=group_name.size().unstack()\n",
    "pivoted.index = pivoted.index.array\n",
    "pivoted=pivoted.fillna(0)\n",
    "barplotear(pivoted.sort_values(by=['ALTO'],ascending=False).head(10),\"ALTO\",\"BAJO\",'Cantidad',\"Edad de denunciante\")\n",
    "pivoted.sort_values(by=['ALTO'],ascending=False).head(10)\n"
   ]
  },
  {
   "cell_type": "markdown",
   "metadata": {},
   "source": [
    "#### Representación en términos absolutos"
   ]
  },
  {
   "cell_type": "code",
   "execution_count": 36,
   "metadata": {},
   "outputs": [
    {
     "data": {
      "image/png": "[encoded data removed]",
      "text/plain": [
       "<Figure size 432x432 with 1 Axes>"
      ]
     },
     "metadata": {
      "needs_background": "light"
     },
     "output_type": "display_data"
    },
    {
     "data": {
      "text/html": [
       "<div>\n",
       "<style scoped>\n",
       "    .dataframe tbody tr th:only-of-type {\n",
       "        vertical-align: middle;\n",
       "    }\n",
       "\n",
       "    .dataframe tbody tr th {\n",
       "        vertical-align: top;\n",
       "    }\n",
       "\n",
       "    .dataframe thead th {\n",
       "        text-align: right;\n",
       "    }\n",
       "</style>\n",
       "<table border=\"1\" class=\"dataframe\">\n",
       "  <thead>\n",
       "    <tr style=\"text-align: right;\">\n",
       "      <th>TIPO_RIESGO</th>\n",
       "      <th>ALTO</th>\n",
       "      <th>BAJO</th>\n",
       "    </tr>\n",
       "  </thead>\n",
       "  <tbody>\n",
       "    <tr>\n",
       "      <th>NIÑAS/OS ( 0-5 AÑOS)</th>\n",
       "      <td>0.55</td>\n",
       "      <td>0.45</td>\n",
       "    </tr>\n",
       "    <tr>\n",
       "      <th>NIÑAS/OS (15-17 AÑOS)</th>\n",
       "      <td>0.55</td>\n",
       "      <td>0.45</td>\n",
       "    </tr>\n",
       "    <tr>\n",
       "      <th>NIÑAS/OS (11-14 AÑOS)</th>\n",
       "      <td>0.53</td>\n",
       "      <td>0.47</td>\n",
       "    </tr>\n",
       "    <tr>\n",
       "      <th>NIÑAS/OS ( 6-10 AÑOS)</th>\n",
       "      <td>0.49</td>\n",
       "      <td>0.51</td>\n",
       "    </tr>\n",
       "    <tr>\n",
       "      <th>JOVENES (18-21 AÑOS)</th>\n",
       "      <td>0.43</td>\n",
       "      <td>0.57</td>\n",
       "    </tr>\n",
       "    <tr>\n",
       "      <th>ADULTAS (22-29 AÑOS)</th>\n",
       "      <td>0.38</td>\n",
       "      <td>0.62</td>\n",
       "    </tr>\n",
       "    <tr>\n",
       "      <th>MAYORES MAS DE 74 AÑOS</th>\n",
       "      <td>0.34</td>\n",
       "      <td>0.66</td>\n",
       "    </tr>\n",
       "    <tr>\n",
       "      <th>ADULTAS (30-39 AÑOS)</th>\n",
       "      <td>0.32</td>\n",
       "      <td>0.68</td>\n",
       "    </tr>\n",
       "    <tr>\n",
       "      <th>ADULTAS (40-49 AÑOS)</th>\n",
       "      <td>0.29</td>\n",
       "      <td>0.71</td>\n",
       "    </tr>\n",
       "    <tr>\n",
       "      <th>MAYORES (60-74 AÑOS)</th>\n",
       "      <td>0.22</td>\n",
       "      <td>0.78</td>\n",
       "    </tr>\n",
       "    <tr>\n",
       "      <th>ADULTAS (50-59 AÑOS)</th>\n",
       "      <td>0.22</td>\n",
       "      <td>0.78</td>\n",
       "    </tr>\n",
       "  </tbody>\n",
       "</table>\n",
       "</div>"
      ],
      "text/plain": [
       "TIPO_RIESGO             ALTO  BAJO\n",
       "NIÑAS/OS ( 0-5 AÑOS)    0.55  0.45\n",
       "NIÑAS/OS (15-17 AÑOS)   0.55  0.45\n",
       "NIÑAS/OS (11-14 AÑOS)   0.53  0.47\n",
       "NIÑAS/OS ( 6-10 AÑOS)   0.49  0.51\n",
       "JOVENES (18-21 AÑOS)    0.43  0.57\n",
       "ADULTAS (22-29 AÑOS)    0.38  0.62\n",
       "MAYORES MAS DE 74 AÑOS  0.34  0.66\n",
       "ADULTAS (30-39 AÑOS)    0.32  0.68\n",
       "ADULTAS (40-49 AÑOS)    0.29  0.71\n",
       "MAYORES (60-74 AÑOS)    0.22  0.78\n",
       "ADULTAS (50-59 AÑOS)    0.22  0.78"
      ]
     },
     "execution_count": 36,
     "metadata": {},
     "output_type": "execute_result"
    }
   ],
   "source": [
    "pivotedT=pivoted.T\n",
    "pivotedPercent=pd.DataFrame([pivotedT[col]/pivotedT[col].sum() for col in pivotedT.columns])\n",
    "barplotear(pivotedPercent.sort_values(by=['ALTO'],ascending=False).head(15),\"ALTO\",\"BAJO\",'Porcentaje de distribucion',\"Edad denunciante\")\n",
    "pivotedPercent.sort_values(by=['ALTO'],ascending=False)"
   ]
  },
  {
   "cell_type": "markdown",
   "metadata": {},
   "source": [
    "### Evaluación de Riesgo vs Edad del denunciado\n",
    "#### Representación en términos absolutos"
   ]
  },
  {
   "cell_type": "code",
   "execution_count": 37,
   "metadata": {},
   "outputs": [
    {
     "data": {
      "image/png": "[encoded data removed]",
      "text/plain": [
       "<Figure size 432x432 with 1 Axes>"
      ]
     },
     "metadata": {
      "needs_background": "light"
     },
     "output_type": "display_data"
    },
    {
     "data": {
      "text/html": [
       "<div>\n",
       "<style scoped>\n",
       "    .dataframe tbody tr th:only-of-type {\n",
       "        vertical-align: middle;\n",
       "    }\n",
       "\n",
       "    .dataframe tbody tr th {\n",
       "        vertical-align: top;\n",
       "    }\n",
       "\n",
       "    .dataframe thead th {\n",
       "        text-align: right;\n",
       "    }\n",
       "</style>\n",
       "<table border=\"1\" class=\"dataframe\">\n",
       "  <thead>\n",
       "    <tr style=\"text-align: right;\">\n",
       "      <th>TIPO_RIESGO</th>\n",
       "      <th>ALTO</th>\n",
       "      <th>BAJO</th>\n",
       "    </tr>\n",
       "  </thead>\n",
       "  <tbody>\n",
       "    <tr>\n",
       "      <th>ADULTAS (30-39 AÑOS)</th>\n",
       "      <td>2151</td>\n",
       "      <td>3244</td>\n",
       "    </tr>\n",
       "    <tr>\n",
       "      <th>ADULTAS (40-49 AÑOS)</th>\n",
       "      <td>1418</td>\n",
       "      <td>2305</td>\n",
       "    </tr>\n",
       "    <tr>\n",
       "      <th>ADULTAS (22-29 AÑOS)</th>\n",
       "      <td>1374</td>\n",
       "      <td>2019</td>\n",
       "    </tr>\n",
       "    <tr>\n",
       "      <th>ADULTAS (50-59 AÑOS)</th>\n",
       "      <td>446</td>\n",
       "      <td>897</td>\n",
       "    </tr>\n",
       "    <tr>\n",
       "      <th>JOVENES (18-21 AÑOS)</th>\n",
       "      <td>289</td>\n",
       "      <td>358</td>\n",
       "    </tr>\n",
       "    <tr>\n",
       "      <th>MAYORES (60-74 AÑOS)</th>\n",
       "      <td>199</td>\n",
       "      <td>452</td>\n",
       "    </tr>\n",
       "    <tr>\n",
       "      <th>NIÑAS/OS (15-17 AÑOS)</th>\n",
       "      <td>56</td>\n",
       "      <td>57</td>\n",
       "    </tr>\n",
       "    <tr>\n",
       "      <th>MAYORES MAS DE 74 AÑOS</th>\n",
       "      <td>30</td>\n",
       "      <td>60</td>\n",
       "    </tr>\n",
       "    <tr>\n",
       "      <th>NIÑAS/OS (11-14 AÑOS)</th>\n",
       "      <td>8</td>\n",
       "      <td>3</td>\n",
       "    </tr>\n",
       "  </tbody>\n",
       "</table>\n",
       "</div>"
      ],
      "text/plain": [
       "TIPO_RIESGO             ALTO  BAJO\n",
       "ADULTAS (30-39 AÑOS)    2151  3244\n",
       "ADULTAS (40-49 AÑOS)    1418  2305\n",
       "ADULTAS (22-29 AÑOS)    1374  2019\n",
       "ADULTAS (50-59 AÑOS)     446   897\n",
       "JOVENES (18-21 AÑOS)     289   358\n",
       "MAYORES (60-74 AÑOS)     199   452\n",
       "NIÑAS/OS (15-17 AÑOS)     56    57\n",
       "MAYORES MAS DE 74 AÑOS    30    60\n",
       "NIÑAS/OS (11-14 AÑOS)      8     3"
      ]
     },
     "execution_count": 37,
     "metadata": {},
     "output_type": "execute_result"
    }
   ],
   "source": [
    "#df[\"TIPO_RIESGO\"] = y.replace(1, \"ALTO\").replace(0, \"BAJO\")  \n",
    "\n",
    "group_name = df.groupby(['DENUNCIADA_EDAD', 'TIPO_RIESGO'])\n",
    "pivoted=group_name.size().unstack()\n",
    "pivoted.index = pivoted.index.array\n",
    "pivoted=pivoted.fillna(0)\n",
    "barplotear(pivoted.sort_values(by=['ALTO'],ascending=False).head(10),\"ALTO\",\"BAJO\",'Cantidad',\"Edad de denunciado\")\n",
    "pivoted.sort_values(by=['ALTO'],ascending=False).head(10)\n"
   ]
  },
  {
   "cell_type": "markdown",
   "metadata": {},
   "source": [
    "#### Representación en términos absolutos"
   ]
  },
  {
   "cell_type": "code",
   "execution_count": 38,
   "metadata": {},
   "outputs": [
    {
     "data": {
      "image/png": "[encoded data removed]",
      "text/plain": [
       "<Figure size 432x432 with 1 Axes>"
      ]
     },
     "metadata": {
      "needs_background": "light"
     },
     "output_type": "display_data"
    },
    {
     "data": {
      "text/html": [
       "<div>\n",
       "<style scoped>\n",
       "    .dataframe tbody tr th:only-of-type {\n",
       "        vertical-align: middle;\n",
       "    }\n",
       "\n",
       "    .dataframe tbody tr th {\n",
       "        vertical-align: top;\n",
       "    }\n",
       "\n",
       "    .dataframe thead th {\n",
       "        text-align: right;\n",
       "    }\n",
       "</style>\n",
       "<table border=\"1\" class=\"dataframe\">\n",
       "  <thead>\n",
       "    <tr style=\"text-align: right;\">\n",
       "      <th>TIPO_RIESGO</th>\n",
       "      <th>ALTO</th>\n",
       "      <th>BAJO</th>\n",
       "    </tr>\n",
       "  </thead>\n",
       "  <tbody>\n",
       "    <tr>\n",
       "      <th>NIÑAS/OS (11-14 AÑOS)</th>\n",
       "      <td>0.73</td>\n",
       "      <td>0.27</td>\n",
       "    </tr>\n",
       "    <tr>\n",
       "      <th>NIÑAS/OS (15-17 AÑOS)</th>\n",
       "      <td>0.50</td>\n",
       "      <td>0.50</td>\n",
       "    </tr>\n",
       "    <tr>\n",
       "      <th>JOVENES (18-21 AÑOS)</th>\n",
       "      <td>0.45</td>\n",
       "      <td>0.55</td>\n",
       "    </tr>\n",
       "    <tr>\n",
       "      <th>ADULTAS (22-29 AÑOS)</th>\n",
       "      <td>0.40</td>\n",
       "      <td>0.60</td>\n",
       "    </tr>\n",
       "    <tr>\n",
       "      <th>ADULTAS (30-39 AÑOS)</th>\n",
       "      <td>0.40</td>\n",
       "      <td>0.60</td>\n",
       "    </tr>\n",
       "    <tr>\n",
       "      <th>ADULTAS (40-49 AÑOS)</th>\n",
       "      <td>0.38</td>\n",
       "      <td>0.62</td>\n",
       "    </tr>\n",
       "    <tr>\n",
       "      <th>MAYORES MAS DE 74 AÑOS</th>\n",
       "      <td>0.33</td>\n",
       "      <td>0.67</td>\n",
       "    </tr>\n",
       "    <tr>\n",
       "      <th>ADULTAS (50-59 AÑOS)</th>\n",
       "      <td>0.33</td>\n",
       "      <td>0.67</td>\n",
       "    </tr>\n",
       "    <tr>\n",
       "      <th>MAYORES (60-74 AÑOS)</th>\n",
       "      <td>0.31</td>\n",
       "      <td>0.69</td>\n",
       "    </tr>\n",
       "  </tbody>\n",
       "</table>\n",
       "</div>"
      ],
      "text/plain": [
       "TIPO_RIESGO             ALTO  BAJO\n",
       "NIÑAS/OS (11-14 AÑOS)   0.73  0.27\n",
       "NIÑAS/OS (15-17 AÑOS)   0.50  0.50\n",
       "JOVENES (18-21 AÑOS)    0.45  0.55\n",
       "ADULTAS (22-29 AÑOS)    0.40  0.60\n",
       "ADULTAS (30-39 AÑOS)    0.40  0.60\n",
       "ADULTAS (40-49 AÑOS)    0.38  0.62\n",
       "MAYORES MAS DE 74 AÑOS  0.33  0.67\n",
       "ADULTAS (50-59 AÑOS)    0.33  0.67\n",
       "MAYORES (60-74 AÑOS)    0.31  0.69"
      ]
     },
     "execution_count": 38,
     "metadata": {},
     "output_type": "execute_result"
    }
   ],
   "source": [
    "pivotedT=pivoted.T\n",
    "pivotedPercent=pd.DataFrame([pivotedT[col]/pivotedT[col].sum() for col in pivotedT.columns])\n",
    "barplotear(pivotedPercent.sort_values(by=['ALTO'],ascending=False).head(15),\"ALTO\",\"BAJO\",'Porcentaje de distribucion',\"Edad denunciante\")\n",
    "pivotedPercent.sort_values(by=['ALTO'],ascending=False)"
   ]
  }
 ],
 "metadata": {
  "kernelspec": {
   "display_name": "Python 3",
   "language": "python",
   "name": "python3"
  },
  "language_info": {
   "codemirror_mode": {
    "name": "ipython",
    "version": 3
   },
   "file_extension": ".py",
   "mimetype": "text/x-python",
   "name": "python",
   "nbconvert_exporter": "python",
   "pygments_lexer": "ipython3",
   "version": "3.7.4"
  }
 },
 "nbformat": 4,
 "nbformat_minor": 4
}
